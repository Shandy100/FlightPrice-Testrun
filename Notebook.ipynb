{
 "cells": [
  {
   "cell_type": "code",
   "execution_count": 2,
   "metadata": {},
   "outputs": [],
   "source": [
    "import pandas as pd\n",
    "import numpy as np\n",
    "import  matplotlib.pyplot as plt\n",
    "import seaborn as sns\n",
    "import sklearn\n",
    "\n",
    "\n",
    "\n",
    "%matplotlib inline\n",
    "import warnings\n",
    "warnings.filterwarnings(\"ignore\")\n",
    "\n",
    "pd. set_option('display.max_columns', 300) # or 1000.\n",
    "pd. set_option('display.max_rows', 300) # or 1000."
   ]
  },
  {
   "cell_type": "code",
   "execution_count": 3,
   "metadata": {},
   "outputs": [],
   "source": [
    "df = pd.read_csv('Dataset.csv')"
   ]
  },
  {
   "cell_type": "markdown",
   "metadata": {},
   "source": [
    "### Steps TODO"
   ]
  },
  {
   "cell_type": "markdown",
   "metadata": {},
   "source": [
    "0. Understanding the problem \n",
    "\n",
    "1. Data Reading \n",
    "2. Removing the datapoints where the target value is null \n",
    "3. Preprocess the data \n",
    "4. Train , validation and test split \n",
    "5. EDA\n",
    "6. Feature Engg\n",
    "7. Feture Selection\n",
    "8. Modelling \n",
    "9. HPT\n",
    "10. Accuracy \n",
    "\n",
    "\n",
    "To Remember --Models only understand numbers "
   ]
  },
  {
   "cell_type": "code",
   "execution_count": 4,
   "metadata": {},
   "outputs": [
    {
     "data": {
      "text/html": [
       "<div>\n",
       "<style scoped>\n",
       "    .dataframe tbody tr th:only-of-type {\n",
       "        vertical-align: middle;\n",
       "    }\n",
       "\n",
       "    .dataframe tbody tr th {\n",
       "        vertical-align: top;\n",
       "    }\n",
       "\n",
       "    .dataframe thead th {\n",
       "        text-align: right;\n",
       "    }\n",
       "</style>\n",
       "<table border=\"1\" class=\"dataframe\">\n",
       "  <thead>\n",
       "    <tr style=\"text-align: right;\">\n",
       "      <th></th>\n",
       "      <th>Airline</th>\n",
       "      <th>Date_of_Journey</th>\n",
       "      <th>Source</th>\n",
       "      <th>Destination</th>\n",
       "      <th>Route</th>\n",
       "      <th>Dep_Time</th>\n",
       "      <th>Total_Stops</th>\n",
       "      <th>total_duration_min</th>\n",
       "      <th>Price</th>\n",
       "    </tr>\n",
       "  </thead>\n",
       "  <tbody>\n",
       "    <tr>\n",
       "      <th>0</th>\n",
       "      <td>IndiGo</td>\n",
       "      <td>24-03-2019</td>\n",
       "      <td>Banglore</td>\n",
       "      <td>New Delhi</td>\n",
       "      <td>BLR → DEL</td>\n",
       "      <td>22:20</td>\n",
       "      <td>non-stop</td>\n",
       "      <td>170</td>\n",
       "      <td>3897.0</td>\n",
       "    </tr>\n",
       "    <tr>\n",
       "      <th>1</th>\n",
       "      <td>Air India</td>\n",
       "      <td>01-05-2019</td>\n",
       "      <td>Kolkata</td>\n",
       "      <td>Banglore</td>\n",
       "      <td>CCU → IXR → BBI → BLR</td>\n",
       "      <td>05:50</td>\n",
       "      <td>2 stops</td>\n",
       "      <td>445</td>\n",
       "      <td>7662.0</td>\n",
       "    </tr>\n",
       "    <tr>\n",
       "      <th>2</th>\n",
       "      <td>Jet Airways</td>\n",
       "      <td>09-06-2019</td>\n",
       "      <td>Delhi</td>\n",
       "      <td>Cochin</td>\n",
       "      <td>DEL → LKO → BOM → COK</td>\n",
       "      <td>09:25</td>\n",
       "      <td>2 stops</td>\n",
       "      <td>1140</td>\n",
       "      <td>13882.0</td>\n",
       "    </tr>\n",
       "    <tr>\n",
       "      <th>3</th>\n",
       "      <td>IndiGo</td>\n",
       "      <td>12-05-2019</td>\n",
       "      <td>Kolkata</td>\n",
       "      <td>Banglore</td>\n",
       "      <td>CCU → NAG → BLR</td>\n",
       "      <td>18:05</td>\n",
       "      <td>1 stop</td>\n",
       "      <td>325</td>\n",
       "      <td>6218.0</td>\n",
       "    </tr>\n",
       "    <tr>\n",
       "      <th>4</th>\n",
       "      <td>IndiGo</td>\n",
       "      <td>01-03-2019</td>\n",
       "      <td>Banglore</td>\n",
       "      <td>New Delhi</td>\n",
       "      <td>BLR → NAG → DEL</td>\n",
       "      <td>16:50</td>\n",
       "      <td>1 stop</td>\n",
       "      <td>285</td>\n",
       "      <td>13302.0</td>\n",
       "    </tr>\n",
       "    <tr>\n",
       "      <th>...</th>\n",
       "      <td>...</td>\n",
       "      <td>...</td>\n",
       "      <td>...</td>\n",
       "      <td>...</td>\n",
       "      <td>...</td>\n",
       "      <td>...</td>\n",
       "      <td>...</td>\n",
       "      <td>...</td>\n",
       "      <td>...</td>\n",
       "    </tr>\n",
       "    <tr>\n",
       "      <th>13347</th>\n",
       "      <td>Air India</td>\n",
       "      <td>06-06-2019</td>\n",
       "      <td>Kolkata</td>\n",
       "      <td>Banglore</td>\n",
       "      <td>CCU → DEL → BLR</td>\n",
       "      <td>20:30</td>\n",
       "      <td>1 stop</td>\n",
       "      <td>1435</td>\n",
       "      <td>NaN</td>\n",
       "    </tr>\n",
       "    <tr>\n",
       "      <th>13348</th>\n",
       "      <td>IndiGo</td>\n",
       "      <td>27-03-2019</td>\n",
       "      <td>Kolkata</td>\n",
       "      <td>Banglore</td>\n",
       "      <td>CCU → BLR</td>\n",
       "      <td>14:20</td>\n",
       "      <td>non-stop</td>\n",
       "      <td>155</td>\n",
       "      <td>NaN</td>\n",
       "    </tr>\n",
       "    <tr>\n",
       "      <th>13349</th>\n",
       "      <td>Jet Airways</td>\n",
       "      <td>06-03-2019</td>\n",
       "      <td>Delhi</td>\n",
       "      <td>Cochin</td>\n",
       "      <td>DEL → BOM → COK</td>\n",
       "      <td>21:50</td>\n",
       "      <td>1 stop</td>\n",
       "      <td>395</td>\n",
       "      <td>NaN</td>\n",
       "    </tr>\n",
       "    <tr>\n",
       "      <th>13350</th>\n",
       "      <td>Air India</td>\n",
       "      <td>06-03-2019</td>\n",
       "      <td>Delhi</td>\n",
       "      <td>Cochin</td>\n",
       "      <td>DEL → BOM → COK</td>\n",
       "      <td>04:00</td>\n",
       "      <td>1 stop</td>\n",
       "      <td>915</td>\n",
       "      <td>NaN</td>\n",
       "    </tr>\n",
       "    <tr>\n",
       "      <th>13351</th>\n",
       "      <td>Multiple carriers</td>\n",
       "      <td>15-06-2019</td>\n",
       "      <td>Delhi</td>\n",
       "      <td>Cochin</td>\n",
       "      <td>DEL → BOM → COK</td>\n",
       "      <td>04:55</td>\n",
       "      <td>1 stop</td>\n",
       "      <td>860</td>\n",
       "      <td>NaN</td>\n",
       "    </tr>\n",
       "  </tbody>\n",
       "</table>\n",
       "<p>13352 rows × 9 columns</p>\n",
       "</div>"
      ],
      "text/plain": [
       "                 Airline Date_of_Journey    Source Destination  \\\n",
       "0                 IndiGo      24-03-2019  Banglore   New Delhi   \n",
       "1              Air India      01-05-2019   Kolkata    Banglore   \n",
       "2            Jet Airways      09-06-2019     Delhi      Cochin   \n",
       "3                 IndiGo      12-05-2019   Kolkata    Banglore   \n",
       "4                 IndiGo      01-03-2019  Banglore   New Delhi   \n",
       "...                  ...             ...       ...         ...   \n",
       "13347          Air India      06-06-2019   Kolkata    Banglore   \n",
       "13348             IndiGo      27-03-2019   Kolkata    Banglore   \n",
       "13349        Jet Airways      06-03-2019     Delhi      Cochin   \n",
       "13350          Air India      06-03-2019     Delhi      Cochin   \n",
       "13351  Multiple carriers      15-06-2019     Delhi      Cochin   \n",
       "\n",
       "                       Route Dep_Time Total_Stops  total_duration_min    Price  \n",
       "0                  BLR → DEL    22:20    non-stop                 170   3897.0  \n",
       "1      CCU → IXR → BBI → BLR    05:50     2 stops                 445   7662.0  \n",
       "2      DEL → LKO → BOM → COK    09:25     2 stops                1140  13882.0  \n",
       "3            CCU → NAG → BLR    18:05      1 stop                 325   6218.0  \n",
       "4            BLR → NAG → DEL    16:50      1 stop                 285  13302.0  \n",
       "...                      ...      ...         ...                 ...      ...  \n",
       "13347        CCU → DEL → BLR    20:30      1 stop                1435      NaN  \n",
       "13348              CCU → BLR    14:20    non-stop                 155      NaN  \n",
       "13349        DEL → BOM → COK    21:50      1 stop                 395      NaN  \n",
       "13350        DEL → BOM → COK    04:00      1 stop                 915      NaN  \n",
       "13351        DEL → BOM → COK    04:55      1 stop                 860      NaN  \n",
       "\n",
       "[13352 rows x 9 columns]"
      ]
     },
     "execution_count": 4,
     "metadata": {},
     "output_type": "execute_result"
    }
   ],
   "source": [
    "df"
   ]
  },
  {
   "cell_type": "code",
   "execution_count": 5,
   "metadata": {},
   "outputs": [
    {
     "data": {
      "text/plain": [
       "Airline                  0\n",
       "Date_of_Journey          0\n",
       "Source                   0\n",
       "Destination              0\n",
       "Route                    1\n",
       "Dep_Time                 0\n",
       "Total_Stops              1\n",
       "total_duration_min       0\n",
       "Price                 2670\n",
       "dtype: int64"
      ]
     },
     "execution_count": 5,
     "metadata": {},
     "output_type": "execute_result"
    }
   ],
   "source": [
    "df.isna().sum()"
   ]
  },
  {
   "cell_type": "markdown",
   "metadata": {},
   "source": [
    "#### Price is the target column"
   ]
  },
  {
   "cell_type": "markdown",
   "metadata": {},
   "source": [
    "# Removing the datapoints where the target value is null"
   ]
  },
  {
   "cell_type": "code",
   "execution_count": 6,
   "metadata": {},
   "outputs": [],
   "source": [
    "main_train = df[df.Price.isnull()==False]\n",
    "main_test = df[df.Price.isnull()]"
   ]
  },
  {
   "cell_type": "code",
   "execution_count": 7,
   "metadata": {},
   "outputs": [
    {
     "data": {
      "text/plain": [
       "(10682, 9)"
      ]
     },
     "execution_count": 7,
     "metadata": {},
     "output_type": "execute_result"
    }
   ],
   "source": [
    "#Preprocess the data \n",
    "main_train.shape"
   ]
  },
  {
   "cell_type": "code",
   "execution_count": 8,
   "metadata": {},
   "outputs": [
    {
     "data": {
      "text/plain": [
       "Airline               0\n",
       "Date_of_Journey       0\n",
       "Source                0\n",
       "Destination           0\n",
       "Route                 1\n",
       "Dep_Time              0\n",
       "Total_Stops           1\n",
       "total_duration_min    0\n",
       "Price                 0\n",
       "dtype: int64"
      ]
     },
     "execution_count": 8,
     "metadata": {},
     "output_type": "execute_result"
    }
   ],
   "source": [
    "main_train.isna().sum()"
   ]
  },
  {
   "cell_type": "markdown",
   "metadata": {},
   "source": [
    "# Preprocessing"
   ]
  },
  {
   "cell_type": "markdown",
   "metadata": {},
   "source": [
    "### Null Imputation"
   ]
  },
  {
   "cell_type": "code",
   "execution_count": 9,
   "metadata": {},
   "outputs": [
    {
     "data": {
      "text/html": [
       "<div>\n",
       "<style scoped>\n",
       "    .dataframe tbody tr th:only-of-type {\n",
       "        vertical-align: middle;\n",
       "    }\n",
       "\n",
       "    .dataframe tbody tr th {\n",
       "        vertical-align: top;\n",
       "    }\n",
       "\n",
       "    .dataframe thead th {\n",
       "        text-align: right;\n",
       "    }\n",
       "</style>\n",
       "<table border=\"1\" class=\"dataframe\">\n",
       "  <thead>\n",
       "    <tr style=\"text-align: right;\">\n",
       "      <th></th>\n",
       "      <th>Airline</th>\n",
       "      <th>Date_of_Journey</th>\n",
       "      <th>Source</th>\n",
       "      <th>Destination</th>\n",
       "      <th>Route</th>\n",
       "      <th>Dep_Time</th>\n",
       "      <th>Total_Stops</th>\n",
       "      <th>total_duration_min</th>\n",
       "      <th>Price</th>\n",
       "    </tr>\n",
       "  </thead>\n",
       "  <tbody>\n",
       "    <tr>\n",
       "      <th>9038</th>\n",
       "      <td>Air India</td>\n",
       "      <td>06-05-2019</td>\n",
       "      <td>Delhi</td>\n",
       "      <td>Cochin</td>\n",
       "      <td>NaN</td>\n",
       "      <td>09:45</td>\n",
       "      <td>NaN</td>\n",
       "      <td>1420</td>\n",
       "      <td>7480.0</td>\n",
       "    </tr>\n",
       "  </tbody>\n",
       "</table>\n",
       "</div>"
      ],
      "text/plain": [
       "        Airline Date_of_Journey Source Destination Route Dep_Time Total_Stops  \\\n",
       "9038  Air India      06-05-2019  Delhi      Cochin   NaN    09:45         NaN   \n",
       "\n",
       "      total_duration_min   Price  \n",
       "9038                1420  7480.0  "
      ]
     },
     "execution_count": 9,
     "metadata": {},
     "output_type": "execute_result"
    }
   ],
   "source": [
    "main_train[main_train.Route.isnull()]"
   ]
  },
  {
   "cell_type": "code",
   "execution_count": 10,
   "metadata": {},
   "outputs": [],
   "source": [
    "#Dropping the record contating null value as the Route is MCAR and Total stops is related + single row so doesnot matter much\n",
    "main_train = main_train[main_train.Route.isnull()==False]"
   ]
  },
  {
   "cell_type": "code",
   "execution_count": 11,
   "metadata": {},
   "outputs": [
    {
     "name": "stdout",
     "output_type": "stream",
     "text": [
      "<class 'pandas.core.frame.DataFrame'>\n",
      "Int64Index: 10681 entries, 0 to 10681\n",
      "Data columns (total 9 columns):\n",
      " #   Column              Non-Null Count  Dtype  \n",
      "---  ------              --------------  -----  \n",
      " 0   Airline             10681 non-null  object \n",
      " 1   Date_of_Journey     10681 non-null  object \n",
      " 2   Source              10681 non-null  object \n",
      " 3   Destination         10681 non-null  object \n",
      " 4   Route               10681 non-null  object \n",
      " 5   Dep_Time            10681 non-null  object \n",
      " 6   Total_Stops         10681 non-null  object \n",
      " 7   total_duration_min  10681 non-null  int64  \n",
      " 8   Price               10681 non-null  float64\n",
      "dtypes: float64(1), int64(1), object(7)\n",
      "memory usage: 834.5+ KB\n"
     ]
    }
   ],
   "source": [
    "main_train.info()"
   ]
  },
  {
   "cell_type": "markdown",
   "metadata": {},
   "source": [
    "### Date Time Conversion "
   ]
  },
  {
   "cell_type": "code",
   "execution_count": 12,
   "metadata": {},
   "outputs": [],
   "source": [
    "main_train['Date_of_Journey'] = pd.to_datetime(main_train['Date_of_Journey'])"
   ]
  },
  {
   "cell_type": "markdown",
   "metadata": {},
   "source": [
    "### Constant / Duplicate removal"
   ]
  },
  {
   "cell_type": "code",
   "execution_count": 13,
   "metadata": {},
   "outputs": [
    {
     "data": {
      "text/html": [
       "<div>\n",
       "<style scoped>\n",
       "    .dataframe tbody tr th:only-of-type {\n",
       "        vertical-align: middle;\n",
       "    }\n",
       "\n",
       "    .dataframe tbody tr th {\n",
       "        vertical-align: top;\n",
       "    }\n",
       "\n",
       "    .dataframe thead th {\n",
       "        text-align: right;\n",
       "    }\n",
       "</style>\n",
       "<table border=\"1\" class=\"dataframe\">\n",
       "  <thead>\n",
       "    <tr style=\"text-align: right;\">\n",
       "      <th></th>\n",
       "      <th>total_duration_min</th>\n",
       "      <th>Price</th>\n",
       "    </tr>\n",
       "  </thead>\n",
       "  <tbody>\n",
       "    <tr>\n",
       "      <th>total_duration_min</th>\n",
       "      <td>2.578775e+05</td>\n",
       "      <td>1.186720e+06</td>\n",
       "    </tr>\n",
       "    <tr>\n",
       "      <th>Price</th>\n",
       "      <td>1.186720e+06</td>\n",
       "      <td>2.126202e+07</td>\n",
       "    </tr>\n",
       "  </tbody>\n",
       "</table>\n",
       "</div>"
      ],
      "text/plain": [
       "                    total_duration_min         Price\n",
       "total_duration_min        2.578775e+05  1.186720e+06\n",
       "Price                     1.186720e+06  2.126202e+07"
      ]
     },
     "execution_count": 13,
     "metadata": {},
     "output_type": "execute_result"
    }
   ],
   "source": [
    "main_train.cov()"
   ]
  },
  {
   "cell_type": "code",
   "execution_count": 15,
   "metadata": {},
   "outputs": [
    {
     "data": {
      "text/plain": [
       "Airline                 12\n",
       "Date_of_Journey         40\n",
       "Source                   5\n",
       "Destination              6\n",
       "Route                  128\n",
       "Dep_Time               222\n",
       "Total_Stops              5\n",
       "total_duration_min     367\n",
       "Price                 1870\n",
       "dtype: int64"
      ]
     },
     "execution_count": 15,
     "metadata": {},
     "output_type": "execute_result"
    }
   ],
   "source": [
    "#other ways to check for variance --> nunique , value_counts\n",
    "\n",
    "main_train.nunique()"
   ]
  },
  {
   "cell_type": "code",
   "execution_count": 16,
   "metadata": {},
   "outputs": [
    {
     "name": "stdout",
     "output_type": "stream",
     "text": [
      "Jet Airways                          3849\n",
      "IndiGo                               2053\n",
      "Air India                            1750\n",
      "Multiple carriers                    1196\n",
      "SpiceJet                              818\n",
      "Vistara                               479\n",
      "Air Asia                              319\n",
      "GoAir                                 194\n",
      "Multiple carriers Premium economy      13\n",
      "Jet Airways Business                    6\n",
      "Vistara Premium economy                 3\n",
      "Trujet                                  1\n",
      "Name: Airline, dtype: int64\n",
      "#########################\n",
      "Delhi       4536\n",
      "Kolkata     2871\n",
      "Banglore    2197\n",
      "Mumbai       696\n",
      "Chennai      381\n",
      "Name: Source, dtype: int64\n",
      "#########################\n",
      "Cochin       4536\n",
      "Banglore     2871\n",
      "Delhi        1265\n",
      "New Delhi     932\n",
      "Hyderabad     696\n",
      "Kolkata       381\n",
      "Name: Destination, dtype: int64\n",
      "#########################\n",
      "1 stop      5625\n",
      "non-stop    3491\n",
      "2 stops     1519\n",
      "3 stops       45\n",
      "4 stops        1\n",
      "Name: Total_Stops, dtype: int64\n",
      "#########################\n"
     ]
    }
   ],
   "source": [
    "# For catagorical columns with relatively low unique value (<= 12) -- looking for value_counts\n",
    "# if unique count ==1 , constant column \n",
    "\n",
    "for col in main_train.columns:\n",
    "    if main_train[col].nunique()<= 12:\n",
    "        print(main_train[col].value_counts())\n",
    "        print('#########################')"
   ]
  },
  {
   "cell_type": "code",
   "execution_count": 17,
   "metadata": {},
   "outputs": [],
   "source": [
    "# clubbing Airlines with low occurance in dataset - to ensure model gets max information\n",
    "main_train['Airline'] = np.where(main_train['Airline'].isin([\"Multiple carriers Premium economy\",\n",
    "                                                             \"Jet Airways Business\",\n",
    "                                                             \"Vistara Premium economy\",\n",
    "                                                             \"Trujet\"]),\"Other Airlines\",main_train['Airline'])"
   ]
  },
  {
   "cell_type": "code",
   "execution_count": 18,
   "metadata": {},
   "outputs": [
    {
     "data": {
      "text/html": [
       "<div>\n",
       "<style scoped>\n",
       "    .dataframe tbody tr th:only-of-type {\n",
       "        vertical-align: middle;\n",
       "    }\n",
       "\n",
       "    .dataframe tbody tr th {\n",
       "        vertical-align: top;\n",
       "    }\n",
       "\n",
       "    .dataframe thead th {\n",
       "        text-align: right;\n",
       "    }\n",
       "</style>\n",
       "<table border=\"1\" class=\"dataframe\">\n",
       "  <thead>\n",
       "    <tr style=\"text-align: right;\">\n",
       "      <th></th>\n",
       "      <th>Airline</th>\n",
       "      <th>Date_of_Journey</th>\n",
       "      <th>Source</th>\n",
       "      <th>Destination</th>\n",
       "      <th>Route</th>\n",
       "      <th>Dep_Time</th>\n",
       "      <th>Total_Stops</th>\n",
       "      <th>total_duration_min</th>\n",
       "      <th>Price</th>\n",
       "    </tr>\n",
       "  </thead>\n",
       "  <tbody>\n",
       "    <tr>\n",
       "      <th>3835</th>\n",
       "      <td>SpiceJet</td>\n",
       "      <td>2019-01-03</td>\n",
       "      <td>Kolkata</td>\n",
       "      <td>Banglore</td>\n",
       "      <td>CCU → BLR</td>\n",
       "      <td>09:00</td>\n",
       "      <td>non-stop</td>\n",
       "      <td>150</td>\n",
       "      <td>5515.0</td>\n",
       "    </tr>\n",
       "    <tr>\n",
       "      <th>7355</th>\n",
       "      <td>Multiple carriers</td>\n",
       "      <td>2019-01-03</td>\n",
       "      <td>Delhi</td>\n",
       "      <td>Cochin</td>\n",
       "      <td>DEL → BOM → COK</td>\n",
       "      <td>00:20</td>\n",
       "      <td>1 stop</td>\n",
       "      <td>780</td>\n",
       "      <td>29528.0</td>\n",
       "    </tr>\n",
       "    <tr>\n",
       "      <th>486</th>\n",
       "      <td>Jet Airways</td>\n",
       "      <td>2019-01-03</td>\n",
       "      <td>Banglore</td>\n",
       "      <td>New Delhi</td>\n",
       "      <td>BLR → BOM → DEL</td>\n",
       "      <td>08:55</td>\n",
       "      <td>1 stop</td>\n",
       "      <td>380</td>\n",
       "      <td>26890.0</td>\n",
       "    </tr>\n",
       "    <tr>\n",
       "      <th>3545</th>\n",
       "      <td>Air India</td>\n",
       "      <td>2019-01-03</td>\n",
       "      <td>Banglore</td>\n",
       "      <td>New Delhi</td>\n",
       "      <td>BLR → BOM → IDR → DEL</td>\n",
       "      <td>08:50</td>\n",
       "      <td>2 stops</td>\n",
       "      <td>1580</td>\n",
       "      <td>19372.0</td>\n",
       "    </tr>\n",
       "    <tr>\n",
       "      <th>3543</th>\n",
       "      <td>IndiGo</td>\n",
       "      <td>2019-01-03</td>\n",
       "      <td>Banglore</td>\n",
       "      <td>New Delhi</td>\n",
       "      <td>BLR → DEL</td>\n",
       "      <td>10:05</td>\n",
       "      <td>non-stop</td>\n",
       "      <td>175</td>\n",
       "      <td>10067.0</td>\n",
       "    </tr>\n",
       "    <tr>\n",
       "      <th>...</th>\n",
       "      <td>...</td>\n",
       "      <td>...</td>\n",
       "      <td>...</td>\n",
       "      <td>...</td>\n",
       "      <td>...</td>\n",
       "      <td>...</td>\n",
       "      <td>...</td>\n",
       "      <td>...</td>\n",
       "      <td>...</td>\n",
       "    </tr>\n",
       "    <tr>\n",
       "      <th>4046</th>\n",
       "      <td>Multiple carriers</td>\n",
       "      <td>2019-12-06</td>\n",
       "      <td>Delhi</td>\n",
       "      <td>Cochin</td>\n",
       "      <td>DEL → BOM → COK</td>\n",
       "      <td>09:00</td>\n",
       "      <td>1 stop</td>\n",
       "      <td>615</td>\n",
       "      <td>14848.0</td>\n",
       "    </tr>\n",
       "    <tr>\n",
       "      <th>4038</th>\n",
       "      <td>Jet Airways</td>\n",
       "      <td>2019-12-06</td>\n",
       "      <td>Kolkata</td>\n",
       "      <td>Banglore</td>\n",
       "      <td>CCU → BOM → BLR</td>\n",
       "      <td>20:00</td>\n",
       "      <td>1 stop</td>\n",
       "      <td>520</td>\n",
       "      <td>12576.0</td>\n",
       "    </tr>\n",
       "    <tr>\n",
       "      <th>4030</th>\n",
       "      <td>Jet Airways</td>\n",
       "      <td>2019-12-06</td>\n",
       "      <td>Delhi</td>\n",
       "      <td>Cochin</td>\n",
       "      <td>DEL → ATQ → BOM → COK</td>\n",
       "      <td>18:20</td>\n",
       "      <td>2 stops</td>\n",
       "      <td>1480</td>\n",
       "      <td>14300.0</td>\n",
       "    </tr>\n",
       "    <tr>\n",
       "      <th>4271</th>\n",
       "      <td>Jet Airways</td>\n",
       "      <td>2019-12-06</td>\n",
       "      <td>Delhi</td>\n",
       "      <td>Cochin</td>\n",
       "      <td>DEL → ATQ → BOM → COK</td>\n",
       "      <td>08:10</td>\n",
       "      <td>2 stops</td>\n",
       "      <td>1215</td>\n",
       "      <td>14300.0</td>\n",
       "    </tr>\n",
       "    <tr>\n",
       "      <th>5340</th>\n",
       "      <td>Jet Airways</td>\n",
       "      <td>2019-12-06</td>\n",
       "      <td>Kolkata</td>\n",
       "      <td>Banglore</td>\n",
       "      <td>CCU → BOM → BLR</td>\n",
       "      <td>14:05</td>\n",
       "      <td>1 stop</td>\n",
       "      <td>875</td>\n",
       "      <td>7594.0</td>\n",
       "    </tr>\n",
       "  </tbody>\n",
       "</table>\n",
       "<p>10681 rows × 9 columns</p>\n",
       "</div>"
      ],
      "text/plain": [
       "                Airline Date_of_Journey    Source Destination  \\\n",
       "3835           SpiceJet      2019-01-03   Kolkata    Banglore   \n",
       "7355  Multiple carriers      2019-01-03     Delhi      Cochin   \n",
       "486         Jet Airways      2019-01-03  Banglore   New Delhi   \n",
       "3545          Air India      2019-01-03  Banglore   New Delhi   \n",
       "3543             IndiGo      2019-01-03  Banglore   New Delhi   \n",
       "...                 ...             ...       ...         ...   \n",
       "4046  Multiple carriers      2019-12-06     Delhi      Cochin   \n",
       "4038        Jet Airways      2019-12-06   Kolkata    Banglore   \n",
       "4030        Jet Airways      2019-12-06     Delhi      Cochin   \n",
       "4271        Jet Airways      2019-12-06     Delhi      Cochin   \n",
       "5340        Jet Airways      2019-12-06   Kolkata    Banglore   \n",
       "\n",
       "                      Route Dep_Time Total_Stops  total_duration_min    Price  \n",
       "3835              CCU → BLR    09:00    non-stop                 150   5515.0  \n",
       "7355        DEL → BOM → COK    00:20      1 stop                 780  29528.0  \n",
       "486         BLR → BOM → DEL    08:55      1 stop                 380  26890.0  \n",
       "3545  BLR → BOM → IDR → DEL    08:50     2 stops                1580  19372.0  \n",
       "3543              BLR → DEL    10:05    non-stop                 175  10067.0  \n",
       "...                     ...      ...         ...                 ...      ...  \n",
       "4046        DEL → BOM → COK    09:00      1 stop                 615  14848.0  \n",
       "4038        CCU → BOM → BLR    20:00      1 stop                 520  12576.0  \n",
       "4030  DEL → ATQ → BOM → COK    18:20     2 stops                1480  14300.0  \n",
       "4271  DEL → ATQ → BOM → COK    08:10     2 stops                1215  14300.0  \n",
       "5340        CCU → BOM → BLR    14:05      1 stop                 875   7594.0  \n",
       "\n",
       "[10681 rows x 9 columns]"
      ]
     },
     "execution_count": 18,
     "metadata": {},
     "output_type": "execute_result"
    }
   ],
   "source": [
    "#sort values by data as the price is dependent on the jourrney date \n",
    "# we only use past data to train the model , hence sorting ensures that while splittig the data only past data is there on the train set\n",
    "\n",
    "main_train.sort_values(by=['Date_of_Journey'])"
   ]
  },
  {
   "cell_type": "markdown",
   "metadata": {},
   "source": [
    "# Split Data"
   ]
  },
  {
   "cell_type": "code",
   "execution_count": 19,
   "metadata": {},
   "outputs": [],
   "source": [
    "# Converting the main_train into X and y so that we can pass it onto train_test_split function\n",
    "\n",
    "# X --> contains the dataframe without the target i.e price\n",
    "X = main_train.drop('Price',axis=1)\n",
    "\n",
    "# y --> contains only the target value \n",
    "y = main_train['Price']"
   ]
  },
  {
   "cell_type": "code",
   "execution_count": 20,
   "metadata": {},
   "outputs": [],
   "source": [
    "#splitting the data first into two part -- doing a 70:30 split i.e 30% data fed to intermediate test data set\n",
    "from sklearn.model_selection import train_test_split\n",
    "X_train,X_inter_test,y_train,y_inter_test = train_test_split(X,y,test_size=0.3,random_state=0 , shuffle = False)"
   ]
  },
  {
   "cell_type": "code",
   "execution_count": 21,
   "metadata": {},
   "outputs": [],
   "source": [
    "# \n",
    "X_val,X_test,y_val,y_test = train_test_split(X_inter_test,y_inter_test,test_size=0.5,random_state=0 , shuffle = False)"
   ]
  },
  {
   "cell_type": "code",
   "execution_count": 22,
   "metadata": {},
   "outputs": [
    {
     "data": {
      "text/plain": [
       "((7476, 8), (1602, 8), (1603, 8))"
      ]
     },
     "execution_count": 22,
     "metadata": {},
     "output_type": "execute_result"
    }
   ],
   "source": [
    "X_train.shape , X_val.shape , X_test.shape"
   ]
  },
  {
   "cell_type": "markdown",
   "metadata": {},
   "source": [
    "# EDA"
   ]
  },
  {
   "cell_type": "code",
   "execution_count": 23,
   "metadata": {},
   "outputs": [
    {
     "data": {
      "text/plain": [
       "<AxesSubplot:xlabel='Price', ylabel='Density'>"
      ]
     },
     "execution_count": 23,
     "metadata": {},
     "output_type": "execute_result"
    },
    {
     "data": {
      "image/png": "[encoded data removed]",
      "text/plain": [
       "<Figure size 432x288 with 1 Axes>"
      ]
     },
     "metadata": {
      "needs_background": "light"
     },
     "output_type": "display_data"
    }
   ],
   "source": [
    "# distribution of the target column \n",
    "# right skewed distribution\n",
    "# outliers present but not that significant , hence  \n",
    "sns.distplot(y_train)"
   ]
  },
  {
   "cell_type": "code",
   "execution_count": 24,
   "metadata": {},
   "outputs": [
    {
     "data": {
      "text/html": [
       "<div>\n",
       "<style scoped>\n",
       "    .dataframe tbody tr th:only-of-type {\n",
       "        vertical-align: middle;\n",
       "    }\n",
       "\n",
       "    .dataframe tbody tr th {\n",
       "        vertical-align: top;\n",
       "    }\n",
       "\n",
       "    .dataframe thead th {\n",
       "        text-align: right;\n",
       "    }\n",
       "</style>\n",
       "<table border=\"1\" class=\"dataframe\">\n",
       "  <thead>\n",
       "    <tr style=\"text-align: right;\">\n",
       "      <th></th>\n",
       "      <th>key_0</th>\n",
       "      <th>Airline</th>\n",
       "      <th>Date_of_Journey</th>\n",
       "      <th>Source</th>\n",
       "      <th>Destination</th>\n",
       "      <th>Route</th>\n",
       "      <th>Dep_Time</th>\n",
       "      <th>Total_Stops</th>\n",
       "      <th>total_duration_min</th>\n",
       "      <th>Price</th>\n",
       "    </tr>\n",
       "  </thead>\n",
       "  <tbody>\n",
       "    <tr>\n",
       "      <th>0</th>\n",
       "      <td>0</td>\n",
       "      <td>IndiGo</td>\n",
       "      <td>2019-03-24</td>\n",
       "      <td>Banglore</td>\n",
       "      <td>New Delhi</td>\n",
       "      <td>BLR → DEL</td>\n",
       "      <td>22:20</td>\n",
       "      <td>non-stop</td>\n",
       "      <td>170</td>\n",
       "      <td>3897.0</td>\n",
       "    </tr>\n",
       "    <tr>\n",
       "      <th>1</th>\n",
       "      <td>1</td>\n",
       "      <td>Air India</td>\n",
       "      <td>2019-01-05</td>\n",
       "      <td>Kolkata</td>\n",
       "      <td>Banglore</td>\n",
       "      <td>CCU → IXR → BBI → BLR</td>\n",
       "      <td>05:50</td>\n",
       "      <td>2 stops</td>\n",
       "      <td>445</td>\n",
       "      <td>7662.0</td>\n",
       "    </tr>\n",
       "    <tr>\n",
       "      <th>2</th>\n",
       "      <td>2</td>\n",
       "      <td>Jet Airways</td>\n",
       "      <td>2019-09-06</td>\n",
       "      <td>Delhi</td>\n",
       "      <td>Cochin</td>\n",
       "      <td>DEL → LKO → BOM → COK</td>\n",
       "      <td>09:25</td>\n",
       "      <td>2 stops</td>\n",
       "      <td>1140</td>\n",
       "      <td>13882.0</td>\n",
       "    </tr>\n",
       "    <tr>\n",
       "      <th>3</th>\n",
       "      <td>3</td>\n",
       "      <td>IndiGo</td>\n",
       "      <td>2019-12-05</td>\n",
       "      <td>Kolkata</td>\n",
       "      <td>Banglore</td>\n",
       "      <td>CCU → NAG → BLR</td>\n",
       "      <td>18:05</td>\n",
       "      <td>1 stop</td>\n",
       "      <td>325</td>\n",
       "      <td>6218.0</td>\n",
       "    </tr>\n",
       "    <tr>\n",
       "      <th>4</th>\n",
       "      <td>4</td>\n",
       "      <td>IndiGo</td>\n",
       "      <td>2019-01-03</td>\n",
       "      <td>Banglore</td>\n",
       "      <td>New Delhi</td>\n",
       "      <td>BLR → NAG → DEL</td>\n",
       "      <td>16:50</td>\n",
       "      <td>1 stop</td>\n",
       "      <td>285</td>\n",
       "      <td>13302.0</td>\n",
       "    </tr>\n",
       "    <tr>\n",
       "      <th>...</th>\n",
       "      <td>...</td>\n",
       "      <td>...</td>\n",
       "      <td>...</td>\n",
       "      <td>...</td>\n",
       "      <td>...</td>\n",
       "      <td>...</td>\n",
       "      <td>...</td>\n",
       "      <td>...</td>\n",
       "      <td>...</td>\n",
       "      <td>...</td>\n",
       "    </tr>\n",
       "    <tr>\n",
       "      <th>7471</th>\n",
       "      <td>7471</td>\n",
       "      <td>Air India</td>\n",
       "      <td>2019-06-03</td>\n",
       "      <td>Delhi</td>\n",
       "      <td>Cochin</td>\n",
       "      <td>DEL → BOM → COK</td>\n",
       "      <td>10:00</td>\n",
       "      <td>1 stop</td>\n",
       "      <td>555</td>\n",
       "      <td>16439.0</td>\n",
       "    </tr>\n",
       "    <tr>\n",
       "      <th>7472</th>\n",
       "      <td>7472</td>\n",
       "      <td>Jet Airways</td>\n",
       "      <td>2019-05-21</td>\n",
       "      <td>Kolkata</td>\n",
       "      <td>Banglore</td>\n",
       "      <td>CCU → BOM → BLR</td>\n",
       "      <td>14:05</td>\n",
       "      <td>1 stop</td>\n",
       "      <td>510</td>\n",
       "      <td>14781.0</td>\n",
       "    </tr>\n",
       "    <tr>\n",
       "      <th>7473</th>\n",
       "      <td>7473</td>\n",
       "      <td>Jet Airways</td>\n",
       "      <td>2019-03-06</td>\n",
       "      <td>Delhi</td>\n",
       "      <td>Cochin</td>\n",
       "      <td>DEL → BOM → COK</td>\n",
       "      <td>19:45</td>\n",
       "      <td>1 stop</td>\n",
       "      <td>1010</td>\n",
       "      <td>10262.0</td>\n",
       "    </tr>\n",
       "    <tr>\n",
       "      <th>7474</th>\n",
       "      <td>7474</td>\n",
       "      <td>Jet Airways</td>\n",
       "      <td>2019-05-24</td>\n",
       "      <td>Kolkata</td>\n",
       "      <td>Banglore</td>\n",
       "      <td>CCU → BOM → BLR</td>\n",
       "      <td>14:05</td>\n",
       "      <td>1 stop</td>\n",
       "      <td>1690</td>\n",
       "      <td>10844.0</td>\n",
       "    </tr>\n",
       "    <tr>\n",
       "      <th>7475</th>\n",
       "      <td>7475</td>\n",
       "      <td>IndiGo</td>\n",
       "      <td>2019-06-15</td>\n",
       "      <td>Banglore</td>\n",
       "      <td>Delhi</td>\n",
       "      <td>BLR → DEL</td>\n",
       "      <td>18:25</td>\n",
       "      <td>non-stop</td>\n",
       "      <td>175</td>\n",
       "      <td>4823.0</td>\n",
       "    </tr>\n",
       "  </tbody>\n",
       "</table>\n",
       "<p>7476 rows × 10 columns</p>\n",
       "</div>"
      ],
      "text/plain": [
       "      key_0      Airline Date_of_Journey    Source Destination  \\\n",
       "0         0       IndiGo      2019-03-24  Banglore   New Delhi   \n",
       "1         1    Air India      2019-01-05   Kolkata    Banglore   \n",
       "2         2  Jet Airways      2019-09-06     Delhi      Cochin   \n",
       "3         3       IndiGo      2019-12-05   Kolkata    Banglore   \n",
       "4         4       IndiGo      2019-01-03  Banglore   New Delhi   \n",
       "...     ...          ...             ...       ...         ...   \n",
       "7471   7471    Air India      2019-06-03     Delhi      Cochin   \n",
       "7472   7472  Jet Airways      2019-05-21   Kolkata    Banglore   \n",
       "7473   7473  Jet Airways      2019-03-06     Delhi      Cochin   \n",
       "7474   7474  Jet Airways      2019-05-24   Kolkata    Banglore   \n",
       "7475   7475       IndiGo      2019-06-15  Banglore       Delhi   \n",
       "\n",
       "                      Route Dep_Time Total_Stops  total_duration_min    Price  \n",
       "0                 BLR → DEL    22:20    non-stop                 170   3897.0  \n",
       "1     CCU → IXR → BBI → BLR    05:50     2 stops                 445   7662.0  \n",
       "2     DEL → LKO → BOM → COK    09:25     2 stops                1140  13882.0  \n",
       "3           CCU → NAG → BLR    18:05      1 stop                 325   6218.0  \n",
       "4           BLR → NAG → DEL    16:50      1 stop                 285  13302.0  \n",
       "...                     ...      ...         ...                 ...      ...  \n",
       "7471        DEL → BOM → COK    10:00      1 stop                 555  16439.0  \n",
       "7472        CCU → BOM → BLR    14:05      1 stop                 510  14781.0  \n",
       "7473        DEL → BOM → COK    19:45      1 stop                1010  10262.0  \n",
       "7474        CCU → BOM → BLR    14:05      1 stop                1690  10844.0  \n",
       "7475              BLR → DEL    18:25    non-stop                 175   4823.0  \n",
       "\n",
       "[7476 rows x 10 columns]"
      ]
     },
     "execution_count": 24,
     "metadata": {},
     "output_type": "execute_result"
    }
   ],
   "source": [
    "X_train.merge(y_train,on = X_train.index)"
   ]
  },
  {
   "cell_type": "code",
   "execution_count": 25,
   "metadata": {},
   "outputs": [
    {
     "data": {
      "text/plain": [
       "<AxesSubplot:xlabel='Price', ylabel='total_duration_min'>"
      ]
     },
     "execution_count": 25,
     "metadata": {},
     "output_type": "execute_result"
    },
    {
     "data": {
      "image/png": "[encoded data removed]",
      "text/plain": [
       "<Figure size 432x288 with 1 Axes>"
      ]
     },
     "metadata": {
      "needs_background": "light"
     },
     "output_type": "display_data"
    }
   ],
   "source": [
    "#No direct trend\n",
    "sns.scatterplot(data=X_train.merge(y_train,on = X_train.index), x=\"Price\", y=\"total_duration_min\")"
   ]
  },
  {
   "cell_type": "code",
   "execution_count": 26,
   "metadata": {},
   "outputs": [
    {
     "data": {
      "text/plain": [
       "122"
      ]
     },
     "execution_count": 26,
     "metadata": {},
     "output_type": "execute_result"
    }
   ],
   "source": [
    "X_train.Route.nunique()"
   ]
  },
  {
   "cell_type": "code",
   "execution_count": 27,
   "metadata": {},
   "outputs": [
    {
     "data": {
      "text/plain": [
       "Route\n",
       "BLR → AMD → DEL                          (min, Vistara)\n",
       "BLR → BBI → DEL                        (min, Air India)\n",
       "BLR → BDQ → DEL                      (min, Jet Airways)\n",
       "BLR → BOM → AMD → DEL                  (min, Air India)\n",
       "BLR → BOM → BHO → DEL                  (min, Air India)\n",
       "BLR → BOM → DEL                           (min, IndiGo)\n",
       "BLR → BOM → IDR → DEL                  (min, Air India)\n",
       "BLR → BOM → IDR → GWL → DEL            (min, Air India)\n",
       "BLR → BOM → JDH → DEL                (min, Jet Airways)\n",
       "BLR → BOM → NAG → DEL                  (min, Air India)\n",
       "BLR → BOM → UDR → DEL                  (min, Air India)\n",
       "BLR → CCU → BBI → DEL                  (min, Air India)\n",
       "BLR → CCU → BBI → HYD → DEL            (min, Air India)\n",
       "BLR → CCU → DEL                        (min, Air India)\n",
       "BLR → CCU → GAU → DEL                  (min, Air India)\n",
       "BLR → COK → DEL                        (min, Air India)\n",
       "BLR → DEL                               (min, SpiceJet)\n",
       "BLR → GAU → DEL                        (min, Air India)\n",
       "BLR → GOI → DEL                           (min, IndiGo)\n",
       "BLR → HBX → BOM → AMD → DEL            (min, Air India)\n",
       "BLR → HBX → BOM → BHO → DEL            (min, Air India)\n",
       "BLR → HYD → DEL                           (min, IndiGo)\n",
       "BLR → HYD → VGA → DEL                  (min, Air India)\n",
       "BLR → IDR → DEL                           (min, IndiGo)\n",
       "BLR → LKO → DEL                           (min, IndiGo)\n",
       "BLR → MAA → DEL                        (min, Air India)\n",
       "BLR → NAG → DEL                           (min, IndiGo)\n",
       "BLR → PNQ → DEL                         (min, SpiceJet)\n",
       "BLR → STV → DEL                           (min, IndiGo)\n",
       "BLR → TRV → COK → DEL                  (min, Air India)\n",
       "BLR → VGA → DEL                        (min, Air India)\n",
       "BLR → VGA → HYD → DEL                  (min, Air India)\n",
       "BLR → VGA → VTZ → DEL                  (min, Air India)\n",
       "BOM → AMD → ISK → HYD                  (min, Air India)\n",
       "BOM → BDQ → DEL → HYD                (min, Jet Airways)\n",
       "BOM → BHO → DEL → HYD                  (min, Air India)\n",
       "BOM → BLR → CCU → BBI → HYD            (min, Air India)\n",
       "BOM → BLR → HYD                        (min, Air India)\n",
       "BOM → CCU → HYD                        (min, Air India)\n",
       "BOM → COK → MAA → HYD                  (min, Air India)\n",
       "BOM → DED → DEL → HYD                (min, Jet Airways)\n",
       "BOM → DEL → HYD                        (min, Air India)\n",
       "BOM → GOI → HYD                           (min, IndiGo)\n",
       "BOM → GOI → PNQ → HYD                  (min, Air India)\n",
       "BOM → HYD                               (min, SpiceJet)\n",
       "BOM → IDR → DEL → HYD                  (min, Air India)\n",
       "BOM → JDH → DEL → HYD                  (min, Air India)\n",
       "BOM → JDH → JAI → DEL → HYD            (min, Air India)\n",
       "BOM → JLR → HYD                         (min, SpiceJet)\n",
       "BOM → MAA → HYD                        (min, Air India)\n",
       "BOM → NDC → HYD                   (min, Other Airlines)\n",
       "BOM → RPR → VTZ → HYD                  (min, Air India)\n",
       "BOM → UDR → DEL → HYD                (min, Jet Airways)\n",
       "CCU → AMD → BLR                            (min, GoAir)\n",
       "CCU → BBI → BLR                           (min, IndiGo)\n",
       "CCU → BBI → BOM → BLR                  (min, Air India)\n",
       "CCU → BBI → HYD → BLR                  (min, Air India)\n",
       "CCU → BBI → IXR → DEL → BLR            (min, Air India)\n",
       "CCU → BLR                                  (min, GoAir)\n",
       "CCU → BOM → AMD → BLR                  (min, Air India)\n",
       "CCU → BOM → BLR                            (min, GoAir)\n",
       "CCU → BOM → COK → BLR                  (min, Air India)\n",
       "CCU → BOM → GOI → BLR                  (min, Air India)\n",
       "CCU → BOM → HBX → BLR                  (min, Air India)\n",
       "CCU → BOM → PNQ → BLR                (min, Jet Airways)\n",
       "CCU → BOM → TRV → BLR                  (min, Air India)\n",
       "CCU → DEL → AMD → BLR                  (min, Air India)\n",
       "CCU → DEL → BLR                         (min, Air Asia)\n",
       "CCU → DEL → COK → BLR                  (min, Air India)\n",
       "CCU → DEL → COK → TRV → BLR            (min, Air India)\n",
       "CCU → DEL → VGA → BLR                  (min, Air India)\n",
       "CCU → GAU → BLR                      (min, Jet Airways)\n",
       "CCU → GAU → DEL → BLR                  (min, Air India)\n",
       "CCU → GAU → IMF → DEL → BLR            (min, Air India)\n",
       "CCU → HYD → BLR                           (min, IndiGo)\n",
       "CCU → IXA → BLR                           (min, IndiGo)\n",
       "CCU → IXB → BLR                         (min, SpiceJet)\n",
       "CCU → IXB → DEL → BLR                  (min, Air India)\n",
       "CCU → IXR → BBI → BLR                  (min, Air India)\n",
       "CCU → IXR → DEL → BLR                   (min, Air Asia)\n",
       "CCU → IXZ → MAA → BLR                  (min, Air India)\n",
       "CCU → JAI → BOM → BLR                  (min, Air India)\n",
       "CCU → JAI → DEL → BLR                  (min, Air India)\n",
       "CCU → KNU → BLR                         (min, SpiceJet)\n",
       "CCU → MAA → BLR                           (min, IndiGo)\n",
       "CCU → NAG → BLR                           (min, IndiGo)\n",
       "CCU → PAT → BLR                           (min, IndiGo)\n",
       "CCU → PNQ → BLR                           (min, IndiGo)\n",
       "CCU → RPR → HYD → BLR                     (min, IndiGo)\n",
       "CCU → VNS → DEL → BLR                  (min, Air India)\n",
       "CCU → VTZ → BLR                           (min, IndiGo)\n",
       "DEL → AMD → BOM → COK                (min, Jet Airways)\n",
       "DEL → AMD → COK                            (min, GoAir)\n",
       "DEL → ATQ → BOM → COK                (min, Jet Airways)\n",
       "DEL → BBI → COK                           (min, IndiGo)\n",
       "DEL → BDQ → BOM → COK                (min, Jet Airways)\n",
       "DEL → BHO → BOM → COK                (min, Jet Airways)\n",
       "DEL → BLR → COK                         (min, SpiceJet)\n",
       "DEL → BOM → COK                            (min, GoAir)\n",
       "DEL → CCU → BOM → COK                  (min, Air India)\n",
       "DEL → COK                            (min, Jet Airways)\n",
       "DEL → DED → BOM → COK                (min, Jet Airways)\n",
       "DEL → GOI → BOM → COK                  (min, Air India)\n",
       "DEL → GWL → IDR → BOM → COK    (min, Multiple carriers)\n",
       "DEL → HYD → BOM → COK                  (min, Air India)\n",
       "DEL → HYD → COK                           (min, IndiGo)\n",
       "DEL → HYD → MAA → COK          (min, Multiple carriers)\n",
       "DEL → IDR → BOM → COK                (min, Jet Airways)\n",
       "DEL → IXC → BOM → COK                (min, Jet Airways)\n",
       "DEL → IXU → BOM → COK          (min, Multiple carriers)\n",
       "DEL → JAI → BOM → COK                  (min, Air India)\n",
       "DEL → JDH → BOM → COK                  (min, Air India)\n",
       "DEL → LKO → BOM → COK                  (min, Air India)\n",
       "DEL → LKO → COK                           (min, IndiGo)\n",
       "DEL → MAA → BOM → COK                (min, Jet Airways)\n",
       "DEL → MAA → COK                        (min, Air India)\n",
       "DEL → NAG → BOM → COK                  (min, Air India)\n",
       "DEL → PNQ → COK                         (min, SpiceJet)\n",
       "DEL → RPR → NAG → BOM → COK            (min, Air India)\n",
       "DEL → TRV → COK                           (min, IndiGo)\n",
       "DEL → UDR → BOM → COK                  (min, Air India)\n",
       "MAA → CCU                              (min, Air India)\n",
       "dtype: object"
      ]
     },
     "execution_count": 27,
     "metadata": {},
     "output_type": "execute_result"
    }
   ],
   "source": [
    "# cheapest / costliest --> flights per route \n",
    "# flights which provides services to most of the routes   \n",
    "X_train.merge(y_train,on = X_train.index).groupby(['Route','Airline'])['Price'].agg(['min']).unstack().T.idxmin()"
   ]
  },
  {
   "cell_type": "code",
   "execution_count": 28,
   "metadata": {},
   "outputs": [
    {
     "data": {
      "text/plain": [
       "Total_Stops\n",
       "1 stop         (min, IndiGo)\n",
       "2 stops     (min, Air India)\n",
       "3 stops     (min, Air India)\n",
       "non-stop     (min, SpiceJet)\n",
       "dtype: object"
      ]
     },
     "execution_count": 28,
     "metadata": {},
     "output_type": "execute_result"
    }
   ],
   "source": [
    "X_train.merge(y_train , on = X_train.index).groupby(['Total_Stops','Airline'])['Price'].agg(['min']).unstack().T.idxmin()"
   ]
  },
  {
   "cell_type": "markdown",
   "metadata": {},
   "source": [
    "# Feature Engg"
   ]
  },
  {
   "cell_type": "code",
   "execution_count": 29,
   "metadata": {},
   "outputs": [
    {
     "name": "stdout",
     "output_type": "stream",
     "text": [
      "<class 'pandas.core.frame.DataFrame'>\n",
      "Int64Index: 7476 entries, 0 to 7475\n",
      "Data columns (total 8 columns):\n",
      " #   Column              Non-Null Count  Dtype         \n",
      "---  ------              --------------  -----         \n",
      " 0   Airline             7476 non-null   object        \n",
      " 1   Date_of_Journey     7476 non-null   datetime64[ns]\n",
      " 2   Source              7476 non-null   object        \n",
      " 3   Destination         7476 non-null   object        \n",
      " 4   Route               7476 non-null   object        \n",
      " 5   Dep_Time            7476 non-null   object        \n",
      " 6   Total_Stops         7476 non-null   object        \n",
      " 7   total_duration_min  7476 non-null   int64         \n",
      "dtypes: datetime64[ns](1), int64(1), object(6)\n",
      "memory usage: 525.7+ KB\n"
     ]
    }
   ],
   "source": [
    "X_train.info()"
   ]
  },
  {
   "cell_type": "code",
   "execution_count": 30,
   "metadata": {},
   "outputs": [],
   "source": [
    "from sklearn.preprocessing import LabelEncoder\n",
    "Airline_encoder = LabelEncoder()\n",
    "Airline_encoder.fit(X_train['Airline'])\n",
    "X_train['Airline_enc'] = Airline_encoder.transform(X_train['Airline'])"
   ]
  },
  {
   "cell_type": "code",
   "execution_count": 31,
   "metadata": {},
   "outputs": [
    {
     "data": {
      "text/html": [
       "<div>\n",
       "<style scoped>\n",
       "    .dataframe tbody tr th:only-of-type {\n",
       "        vertical-align: middle;\n",
       "    }\n",
       "\n",
       "    .dataframe tbody tr th {\n",
       "        vertical-align: top;\n",
       "    }\n",
       "\n",
       "    .dataframe thead th {\n",
       "        text-align: right;\n",
       "    }\n",
       "</style>\n",
       "<table border=\"1\" class=\"dataframe\">\n",
       "  <thead>\n",
       "    <tr style=\"text-align: right;\">\n",
       "      <th></th>\n",
       "      <th>Airline_enc</th>\n",
       "      <th>Airline</th>\n",
       "    </tr>\n",
       "  </thead>\n",
       "  <tbody>\n",
       "    <tr>\n",
       "      <th>0</th>\n",
       "      <td>3</td>\n",
       "      <td>IndiGo</td>\n",
       "    </tr>\n",
       "    <tr>\n",
       "      <th>1</th>\n",
       "      <td>1</td>\n",
       "      <td>Air India</td>\n",
       "    </tr>\n",
       "    <tr>\n",
       "      <th>2</th>\n",
       "      <td>4</td>\n",
       "      <td>Jet Airways</td>\n",
       "    </tr>\n",
       "    <tr>\n",
       "      <th>3</th>\n",
       "      <td>3</td>\n",
       "      <td>IndiGo</td>\n",
       "    </tr>\n",
       "    <tr>\n",
       "      <th>4</th>\n",
       "      <td>3</td>\n",
       "      <td>IndiGo</td>\n",
       "    </tr>\n",
       "    <tr>\n",
       "      <th>...</th>\n",
       "      <td>...</td>\n",
       "      <td>...</td>\n",
       "    </tr>\n",
       "    <tr>\n",
       "      <th>7471</th>\n",
       "      <td>1</td>\n",
       "      <td>Air India</td>\n",
       "    </tr>\n",
       "    <tr>\n",
       "      <th>7472</th>\n",
       "      <td>4</td>\n",
       "      <td>Jet Airways</td>\n",
       "    </tr>\n",
       "    <tr>\n",
       "      <th>7473</th>\n",
       "      <td>4</td>\n",
       "      <td>Jet Airways</td>\n",
       "    </tr>\n",
       "    <tr>\n",
       "      <th>7474</th>\n",
       "      <td>4</td>\n",
       "      <td>Jet Airways</td>\n",
       "    </tr>\n",
       "    <tr>\n",
       "      <th>7475</th>\n",
       "      <td>3</td>\n",
       "      <td>IndiGo</td>\n",
       "    </tr>\n",
       "  </tbody>\n",
       "</table>\n",
       "<p>7476 rows × 2 columns</p>\n",
       "</div>"
      ],
      "text/plain": [
       "      Airline_enc      Airline\n",
       "0               3       IndiGo\n",
       "1               1    Air India\n",
       "2               4  Jet Airways\n",
       "3               3       IndiGo\n",
       "4               3       IndiGo\n",
       "...           ...          ...\n",
       "7471            1    Air India\n",
       "7472            4  Jet Airways\n",
       "7473            4  Jet Airways\n",
       "7474            4  Jet Airways\n",
       "7475            3       IndiGo\n",
       "\n",
       "[7476 rows x 2 columns]"
      ]
     },
     "execution_count": 31,
     "metadata": {},
     "output_type": "execute_result"
    }
   ],
   "source": [
    "X_train[['Airline_enc','Airline']]"
   ]
  },
  {
   "cell_type": "code",
   "execution_count": 32,
   "metadata": {},
   "outputs": [],
   "source": [
    "X_val['Airline_enc'] = Airline_encoder.transform(X_val['Airline'])\n",
    "X_test['Airline_enc'] = Airline_encoder.transform(X_test['Airline'])"
   ]
  },
  {
   "cell_type": "code",
   "execution_count": 33,
   "metadata": {},
   "outputs": [
    {
     "data": {
      "text/html": [
       "<div>\n",
       "<style scoped>\n",
       "    .dataframe tbody tr th:only-of-type {\n",
       "        vertical-align: middle;\n",
       "    }\n",
       "\n",
       "    .dataframe tbody tr th {\n",
       "        vertical-align: top;\n",
       "    }\n",
       "\n",
       "    .dataframe thead th {\n",
       "        text-align: right;\n",
       "    }\n",
       "</style>\n",
       "<table border=\"1\" class=\"dataframe\">\n",
       "  <thead>\n",
       "    <tr style=\"text-align: right;\">\n",
       "      <th></th>\n",
       "      <th>Airline_enc</th>\n",
       "      <th>Airline</th>\n",
       "    </tr>\n",
       "  </thead>\n",
       "  <tbody>\n",
       "    <tr>\n",
       "      <th>9079</th>\n",
       "      <td>8</td>\n",
       "      <td>Vistara</td>\n",
       "    </tr>\n",
       "    <tr>\n",
       "      <th>9080</th>\n",
       "      <td>7</td>\n",
       "      <td>SpiceJet</td>\n",
       "    </tr>\n",
       "    <tr>\n",
       "      <th>9081</th>\n",
       "      <td>5</td>\n",
       "      <td>Multiple carriers</td>\n",
       "    </tr>\n",
       "    <tr>\n",
       "      <th>9082</th>\n",
       "      <td>4</td>\n",
       "      <td>Jet Airways</td>\n",
       "    </tr>\n",
       "    <tr>\n",
       "      <th>9083</th>\n",
       "      <td>7</td>\n",
       "      <td>SpiceJet</td>\n",
       "    </tr>\n",
       "    <tr>\n",
       "      <th>...</th>\n",
       "      <td>...</td>\n",
       "      <td>...</td>\n",
       "    </tr>\n",
       "    <tr>\n",
       "      <th>10677</th>\n",
       "      <td>0</td>\n",
       "      <td>Air Asia</td>\n",
       "    </tr>\n",
       "    <tr>\n",
       "      <th>10678</th>\n",
       "      <td>1</td>\n",
       "      <td>Air India</td>\n",
       "    </tr>\n",
       "    <tr>\n",
       "      <th>10679</th>\n",
       "      <td>4</td>\n",
       "      <td>Jet Airways</td>\n",
       "    </tr>\n",
       "    <tr>\n",
       "      <th>10680</th>\n",
       "      <td>8</td>\n",
       "      <td>Vistara</td>\n",
       "    </tr>\n",
       "    <tr>\n",
       "      <th>10681</th>\n",
       "      <td>1</td>\n",
       "      <td>Air India</td>\n",
       "    </tr>\n",
       "  </tbody>\n",
       "</table>\n",
       "<p>1603 rows × 2 columns</p>\n",
       "</div>"
      ],
      "text/plain": [
       "       Airline_enc            Airline\n",
       "9079             8            Vistara\n",
       "9080             7           SpiceJet\n",
       "9081             5  Multiple carriers\n",
       "9082             4        Jet Airways\n",
       "9083             7           SpiceJet\n",
       "...            ...                ...\n",
       "10677            0           Air Asia\n",
       "10678            1          Air India\n",
       "10679            4        Jet Airways\n",
       "10680            8            Vistara\n",
       "10681            1          Air India\n",
       "\n",
       "[1603 rows x 2 columns]"
      ]
     },
     "execution_count": 33,
     "metadata": {},
     "output_type": "execute_result"
    }
   ],
   "source": [
    "X_test[['Airline_enc','Airline']]"
   ]
  },
  {
   "cell_type": "code",
   "execution_count": 34,
   "metadata": {},
   "outputs": [],
   "source": [
    "X_train.drop(['Airline'], axis =1,inplace=True)\n",
    "X_val.drop(['Airline'],axis=1 , inplace=True)\n",
    "X_test.drop(['Airline'],axis=1 , inplace=True)\n"
   ]
  },
  {
   "cell_type": "code",
   "execution_count": 35,
   "metadata": {},
   "outputs": [
    {
     "name": "stdout",
     "output_type": "stream",
     "text": [
      "<class 'pandas.core.frame.DataFrame'>\n",
      "Int64Index: 7476 entries, 0 to 7475\n",
      "Data columns (total 8 columns):\n",
      " #   Column              Non-Null Count  Dtype         \n",
      "---  ------              --------------  -----         \n",
      " 0   Date_of_Journey     7476 non-null   datetime64[ns]\n",
      " 1   Source              7476 non-null   object        \n",
      " 2   Destination         7476 non-null   object        \n",
      " 3   Route               7476 non-null   object        \n",
      " 4   Dep_Time            7476 non-null   object        \n",
      " 5   Total_Stops         7476 non-null   object        \n",
      " 6   total_duration_min  7476 non-null   int64         \n",
      " 7   Airline_enc         7476 non-null   int32         \n",
      "dtypes: datetime64[ns](1), int32(1), int64(1), object(5)\n",
      "memory usage: 496.5+ KB\n"
     ]
    }
   ],
   "source": [
    "X_train.info()"
   ]
  },
  {
   "cell_type": "code",
   "execution_count": 36,
   "metadata": {},
   "outputs": [],
   "source": [
    "# function will delete a column from train , val and test\n",
    "def thanos_snap(col ,traindf = X_train,valdf = X_val,testdf = X_test):\n",
    "    traindf.drop(col, axis =1,inplace=True)\n",
    "    valdf.drop(col,axis=1 , inplace=True)\n",
    "    testdf.drop(col,axis=1 , inplace=True)\n",
    "\n",
    "    return traindf,valdf ,testdf"
   ]
  },
  {
   "cell_type": "code",
   "execution_count": 37,
   "metadata": {},
   "outputs": [],
   "source": [
    "# wrote a custom function to do a status check  on all the dataframes \n",
    "def status_check(traindf = X_train,valdf = X_val,testdf = X_test):\n",
    "    print(traindf.info())\n",
    "    print(\"****************************\")\n",
    "    print(traindf.shape,valdf.shape,testdf.shape)\n",
    "    print(\"************Train Null Count****************\")\n",
    "    print(traindf.isna().sum())\n",
    "    print(\"************Test Null Count ****************\")\n",
    "    print(testdf.isna().sum())    \n",
    "    print(\"************Val Null Count ****************\")\n",
    "    print(valdf.isna().sum())    "
   ]
  },
  {
   "cell_type": "code",
   "execution_count": 38,
   "metadata": {},
   "outputs": [],
   "source": [
    "#Date of journey\n",
    "#0 --> Monday , 6 --> Sunday\n",
    "X_train['day_of_week'] = X_train['Date_of_Journey'].dt.weekday \n",
    "X_val['day_of_week'] = X_val['Date_of_Journey'].dt.weekday \n",
    "X_test['day_of_week'] = X_test['Date_of_Journey'].dt.weekday     "
   ]
  },
  {
   "cell_type": "code",
   "execution_count": 39,
   "metadata": {},
   "outputs": [],
   "source": [
    "#extract day,month and year \n",
    "\n",
    "X_train['day_of_Journey'] = X_train['Date_of_Journey'].dt.day\n",
    "X_train['month_of_Journey'] = X_train['Date_of_Journey'].dt.month\n",
    "X_train['year_of_Journey'] = X_train['Date_of_Journey'].dt.year\n",
    "\n",
    "X_val['day_of_Journey'] = X_val['Date_of_Journey'].dt.day\n",
    "X_val['month_of_Journey'] = X_val['Date_of_Journey'].dt.month\n",
    "X_val['year_of_Journey'] = X_val['Date_of_Journey'].dt.year\n",
    "\n",
    "\n",
    "X_test['day_of_Journey'] = X_test['Date_of_Journey'].dt.day\n",
    "X_test['month_of_Journey'] = X_test['Date_of_Journey'].dt.month\n",
    "X_test['year_of_Journey'] = X_test['Date_of_Journey'].dt.year"
   ]
  },
  {
   "cell_type": "code",
   "execution_count": 40,
   "metadata": {},
   "outputs": [],
   "source": [
    "X_train ,X_val, X_test = thanos_snap(['Date_of_Journey'])"
   ]
  },
  {
   "cell_type": "code",
   "execution_count": 41,
   "metadata": {},
   "outputs": [],
   "source": [
    "# label encode source and destination\n",
    "source_encoder = LabelEncoder()\n",
    "destination_encoder = LabelEncoder()\n",
    "\n",
    "source_encoder.fit(X_train['Source'])\n",
    "destination_encoder.fit(X_train['Destination'])\n",
    "\n",
    "X_train['Source_enc'] = source_encoder.transform(X_train['Source'])\n",
    "X_train['Destination_enc'] = destination_encoder.transform(X_train['Destination'])\n",
    "\n",
    "X_val['Source_enc'] = source_encoder.transform(X_val['Source'])\n",
    "X_val['Destination_enc'] = destination_encoder.transform(X_val['Destination'])\n",
    "\n",
    "X_test['Source_enc'] = source_encoder.transform(X_test['Source'])\n",
    "X_test['Destination_enc'] = destination_encoder.transform(X_test['Destination'])"
   ]
  },
  {
   "cell_type": "code",
   "execution_count": 42,
   "metadata": {},
   "outputs": [],
   "source": [
    "X_train ,X_val, X_test = thanos_snap(['Source','Destination'])"
   ]
  },
  {
   "cell_type": "code",
   "execution_count": 43,
   "metadata": {},
   "outputs": [],
   "source": [
    "# label enceode route as well\n",
    "route_encoder = LabelEncoder()\n",
    "\n",
    "route_encoder.fit(X_train['Route'])\n",
    "\n",
    "X_train['Route_enc'] = route_encoder.transform(X_train['Route'])"
   ]
  },
  {
   "cell_type": "code",
   "execution_count": 44,
   "metadata": {},
   "outputs": [],
   "source": [
    "#Error !!!!!: Since X_val new catagories of routes are seen hence we have to explicitly add them to class \n",
    "#X_val['Route'] = route_encoder.transform(X_val['Route'])"
   ]
  },
  {
   "cell_type": "code",
   "execution_count": 45,
   "metadata": {},
   "outputs": [],
   "source": [
    "# finding what are the new catagories in the validation set\n",
    "diff = set(X_val['Route'])-set(route_encoder.classes_)\n",
    "\n",
    "# adding them to the classess variable // \n",
    "for items in diff:\n",
    "    route_encoder.classes_ = np.append(route_encoder.classes_,items)\n"
   ]
  },
  {
   "cell_type": "code",
   "execution_count": 46,
   "metadata": {},
   "outputs": [],
   "source": [
    "X_val['Route_enc'] = route_encoder.transform(X_val['Route'])"
   ]
  },
  {
   "cell_type": "code",
   "execution_count": 47,
   "metadata": {},
   "outputs": [],
   "source": [
    "# doing same thing for test also\n",
    "\n",
    "diff2 = set(X_test['Route'])-set(route_encoder.classes_)\n",
    "for items in diff2:\n",
    "    route_encoder.classes_ = np.append(route_encoder.classes_,items)\n"
   ]
  },
  {
   "cell_type": "code",
   "execution_count": 48,
   "metadata": {},
   "outputs": [],
   "source": [
    "X_test['Route_enc'] = route_encoder.transform(X_test['Route'])"
   ]
  },
  {
   "cell_type": "code",
   "execution_count": 49,
   "metadata": {},
   "outputs": [],
   "source": [
    "X_train ,X_val, X_test = thanos_snap(['Route'])"
   ]
  },
  {
   "cell_type": "code",
   "execution_count": 50,
   "metadata": {},
   "outputs": [],
   "source": [
    "# splitting on the basis of ':' \n",
    "# use astype(int) to convert it into integer\n",
    "X_train['Dep_Time'] = X_train['Dep_Time'].str.replace(':',\"\").astype(int)\n",
    "X_val['Dep_Time'] = X_val['Dep_Time'].str.replace(':',\"\").astype(int)\n",
    "X_test['Dep_Time'] = X_test['Dep_Time'].str.replace(':',\"\").astype(int)"
   ]
  },
  {
   "cell_type": "code",
   "execution_count": 51,
   "metadata": {},
   "outputs": [
    {
     "name": "stdout",
     "output_type": "stream",
     "text": [
      "<class 'pandas.core.frame.DataFrame'>\n",
      "Int64Index: 7476 entries, 0 to 7475\n",
      "Data columns (total 11 columns):\n",
      " #   Column              Non-Null Count  Dtype \n",
      "---  ------              --------------  ----- \n",
      " 0   Dep_Time            7476 non-null   int32 \n",
      " 1   Total_Stops         7476 non-null   object\n",
      " 2   total_duration_min  7476 non-null   int64 \n",
      " 3   Airline_enc         7476 non-null   int32 \n",
      " 4   day_of_week         7476 non-null   int64 \n",
      " 5   day_of_Journey      7476 non-null   int64 \n",
      " 6   month_of_Journey    7476 non-null   int64 \n",
      " 7   year_of_Journey     7476 non-null   int64 \n",
      " 8   Source_enc          7476 non-null   int32 \n",
      " 9   Destination_enc     7476 non-null   int32 \n",
      " 10  Route_enc           7476 non-null   int32 \n",
      "dtypes: int32(5), int64(5), object(1)\n",
      "memory usage: 554.9+ KB\n",
      "None\n",
      "****************************\n",
      "(7476, 11) (1602, 11) (1603, 11)\n",
      "************Train Null Count****************\n",
      "Dep_Time              0\n",
      "Total_Stops           0\n",
      "total_duration_min    0\n",
      "Airline_enc           0\n",
      "day_of_week           0\n",
      "day_of_Journey        0\n",
      "month_of_Journey      0\n",
      "year_of_Journey       0\n",
      "Source_enc            0\n",
      "Destination_enc       0\n",
      "Route_enc             0\n",
      "dtype: int64\n",
      "************Test Null Count ****************\n",
      "Dep_Time              0\n",
      "Total_Stops           0\n",
      "total_duration_min    0\n",
      "Airline_enc           0\n",
      "day_of_week           0\n",
      "day_of_Journey        0\n",
      "month_of_Journey      0\n",
      "year_of_Journey       0\n",
      "Source_enc            0\n",
      "Destination_enc       0\n",
      "Route_enc             0\n",
      "dtype: int64\n",
      "************Val Null Count ****************\n",
      "Dep_Time              0\n",
      "Total_Stops           0\n",
      "total_duration_min    0\n",
      "Airline_enc           0\n",
      "day_of_week           0\n",
      "day_of_Journey        0\n",
      "month_of_Journey      0\n",
      "year_of_Journey       0\n",
      "Source_enc            0\n",
      "Destination_enc       0\n",
      "Route_enc             0\n",
      "dtype: int64\n"
     ]
    }
   ],
   "source": [
    "status_check()"
   ]
  },
  {
   "cell_type": "code",
   "execution_count": 52,
   "metadata": {},
   "outputs": [],
   "source": [
    "# making our life easy only extracting the int from the Total_stops\n",
    "X_train[\"Total_Stops\"] = X_train[\"Total_Stops\"].str.replace(\"non-\",\"0 \").str.split(\" \").str[0].astype(int)\n",
    "X_val[\"Total_Stops\"] = X_val[\"Total_Stops\"].str.replace(\"non-\",\"0 \").str.split(\" \").str[0].astype(int)\n",
    "X_test[\"Total_Stops\"] = X_test[\"Total_Stops\"].str.replace(\"non-\",\"0 \").str.split(\" \").str[0].astype(int)"
   ]
  },
  {
   "cell_type": "markdown",
   "metadata": {},
   "source": [
    "# Feature Selection"
   ]
  },
  {
   "cell_type": "code",
   "execution_count": 53,
   "metadata": {},
   "outputs": [
    {
     "data": {
      "text/plain": [
       "<AxesSubplot:title={'center':'Pearson Correlation of Features'}>"
      ]
     },
     "execution_count": 53,
     "metadata": {},
     "output_type": "execute_result"
    },
    {
     "data": {
      "image/png": "[encoded data removed]",
      "text/plain": [
       "<Figure size 1008x864 with 2 Axes>"
      ]
     },
     "metadata": {
      "needs_background": "light"
     },
     "output_type": "display_data"
    }
   ],
   "source": [
    "#Feature Selection\n",
    "\n",
    "#corrmat = X_train.merge(y_train , on = X_train.index).corr()\n",
    "# plt.subplots(figsize=(12,9))\n",
    "# sns.heatmap(corrmat, vmax=0.9, square=True)\n",
    "\n",
    "\n",
    "colormap = plt.cm.RdBu\n",
    "plt.figure(figsize=(14,12))\n",
    "plt.title('Pearson Correlation of Features', y=1.05, size=15)\n",
    "sns.heatmap(X_train.merge(y_train , on = X_train.index ).corr(),linewidths=0.1,vmax=1.0, \n",
    "            square=True, cmap=colormap, linecolor='white', annot=True)"
   ]
  },
  {
   "cell_type": "code",
   "execution_count": 54,
   "metadata": {},
   "outputs": [],
   "source": [
    "# here you can see year of journey is a constant column hence should be dropped "
   ]
  },
  {
   "cell_type": "code",
   "execution_count": 55,
   "metadata": {},
   "outputs": [
    {
     "data": {
      "text/plain": [
       "VarianceThreshold(threshold=0.8)"
      ]
     },
     "execution_count": 55,
     "metadata": {},
     "output_type": "execute_result"
    }
   ],
   "source": [
    "# also since all the columns have been converted to int/ float , you can use variance threshold -- ;-D\n",
    "\n",
    "from sklearn.feature_selection import VarianceThreshold\n",
    "sel = VarianceThreshold(0.8)\n",
    "sel.fit(X_train)"
   ]
  },
  {
   "cell_type": "code",
   "execution_count": 56,
   "metadata": {},
   "outputs": [
    {
     "data": {
      "text/plain": [
       "array([3.32452330e+05, 4.48921246e-01, 2.52301334e+05, 3.62683031e+00,\n",
       "       3.39075516e+00, 7.73599744e+01, 8.88596122e+00, 0.00000000e+00,\n",
       "       1.38977412e+00, 2.14058318e+00, 1.23641287e+03])"
      ]
     },
     "execution_count": 56,
     "metadata": {},
     "output_type": "execute_result"
    }
   ],
   "source": [
    "sel.variances_"
   ]
  },
  {
   "cell_type": "code",
   "execution_count": 57,
   "metadata": {},
   "outputs": [],
   "source": [
    "X_train,X_val ,X_test = thanos_snap(['year_of_Journey'])"
   ]
  },
  {
   "cell_type": "code",
   "execution_count": 58,
   "metadata": {},
   "outputs": [
    {
     "name": "stdout",
     "output_type": "stream",
     "text": [
      "<class 'pandas.core.frame.DataFrame'>\n",
      "Int64Index: 7476 entries, 0 to 7475\n",
      "Data columns (total 10 columns):\n",
      " #   Column              Non-Null Count  Dtype\n",
      "---  ------              --------------  -----\n",
      " 0   Dep_Time            7476 non-null   int32\n",
      " 1   Total_Stops         7476 non-null   int32\n",
      " 2   total_duration_min  7476 non-null   int64\n",
      " 3   Airline_enc         7476 non-null   int32\n",
      " 4   day_of_week         7476 non-null   int64\n",
      " 5   day_of_Journey      7476 non-null   int64\n",
      " 6   month_of_Journey    7476 non-null   int64\n",
      " 7   Source_enc          7476 non-null   int32\n",
      " 8   Destination_enc     7476 non-null   int32\n",
      " 9   Route_enc           7476 non-null   int32\n",
      "dtypes: int32(6), int64(4)\n",
      "memory usage: 467.2 KB\n",
      "None\n",
      "****************************\n",
      "(7476, 10) (1602, 10) (1603, 10)\n",
      "************Train Null Count****************\n",
      "Dep_Time              0\n",
      "Total_Stops           0\n",
      "total_duration_min    0\n",
      "Airline_enc           0\n",
      "day_of_week           0\n",
      "day_of_Journey        0\n",
      "month_of_Journey      0\n",
      "Source_enc            0\n",
      "Destination_enc       0\n",
      "Route_enc             0\n",
      "dtype: int64\n",
      "************Test Null Count ****************\n",
      "Dep_Time              0\n",
      "Total_Stops           0\n",
      "total_duration_min    0\n",
      "Airline_enc           0\n",
      "day_of_week           0\n",
      "day_of_Journey        0\n",
      "month_of_Journey      0\n",
      "Source_enc            0\n",
      "Destination_enc       0\n",
      "Route_enc             0\n",
      "dtype: int64\n",
      "************Val Null Count ****************\n",
      "Dep_Time              0\n",
      "Total_Stops           0\n",
      "total_duration_min    0\n",
      "Airline_enc           0\n",
      "day_of_week           0\n",
      "day_of_Journey        0\n",
      "month_of_Journey      0\n",
      "Source_enc            0\n",
      "Destination_enc       0\n",
      "Route_enc             0\n",
      "dtype: int64\n"
     ]
    }
   ],
   "source": [
    "status_check()"
   ]
  },
  {
   "cell_type": "markdown",
   "metadata": {},
   "source": [
    "# Modelling "
   ]
  },
  {
   "cell_type": "markdown",
   "metadata": {},
   "source": [
    "#create a base model"
   ]
  },
  {
   "cell_type": "code",
   "execution_count": 59,
   "metadata": {},
   "outputs": [
    {
     "data": {
      "text/plain": [
       "LinearRegression()"
      ]
     },
     "execution_count": 59,
     "metadata": {},
     "output_type": "execute_result"
    }
   ],
   "source": [
    "\n",
    "from sklearn.linear_model import LinearRegression\n",
    "base_model = LinearRegression()\n",
    "base_model.fit(X_train, y_train)"
   ]
  },
  {
   "cell_type": "code",
   "execution_count": 60,
   "metadata": {},
   "outputs": [],
   "source": [
    "y_predict = base_model.predict(X_val)"
   ]
  },
  {
   "cell_type": "code",
   "execution_count": 61,
   "metadata": {},
   "outputs": [
    {
     "data": {
      "text/plain": [
       "3309.8956141041226"
      ]
     },
     "execution_count": 61,
     "metadata": {},
     "output_type": "execute_result"
    }
   ],
   "source": [
    "from sklearn.metrics import mean_squared_error\n",
    "\n",
    "mean_squared_error(y_val, y_predict, squared=False)"
   ]
  },
  {
   "cell_type": "code",
   "execution_count": 62,
   "metadata": {},
   "outputs": [],
   "source": [
    "met = pd.DataFrame(zip(y_predict , y_test),columns=['Predicted','Actuals'])"
   ]
  },
  {
   "cell_type": "code",
   "execution_count": 63,
   "metadata": {},
   "outputs": [
    {
     "data": {
      "text/plain": [
       "0.6228731963181376"
      ]
     },
     "execution_count": 63,
     "metadata": {},
     "output_type": "execute_result"
    }
   ],
   "source": [
    "(abs(met.Predicted-met.Actuals)/met.Actuals).mean()"
   ]
  },
  {
   "cell_type": "markdown",
   "metadata": {},
   "source": [
    "#Tree based model"
   ]
  },
  {
   "cell_type": "code",
   "execution_count": 64,
   "metadata": {},
   "outputs": [],
   "source": [
    "from sklearn.tree import DecisionTreeRegressor\n",
    "regressor = DecisionTreeRegressor(random_state=0 , max_depth=5)"
   ]
  },
  {
   "cell_type": "code",
   "execution_count": 65,
   "metadata": {},
   "outputs": [
    {
     "data": {
      "text/plain": [
       "DecisionTreeRegressor(max_depth=5, random_state=0)"
      ]
     },
     "execution_count": 65,
     "metadata": {},
     "output_type": "execute_result"
    }
   ],
   "source": [
    "regressor.fit(X_train, y_train)"
   ]
  },
  {
   "cell_type": "code",
   "execution_count": 66,
   "metadata": {},
   "outputs": [],
   "source": [
    "y_predict2 = regressor.predict(X_val)"
   ]
  },
  {
   "cell_type": "code",
   "execution_count": 67,
   "metadata": {},
   "outputs": [
    {
     "data": {
      "text/plain": [
       "2343.0470814980317"
      ]
     },
     "execution_count": 67,
     "metadata": {},
     "output_type": "execute_result"
    }
   ],
   "source": [
    "mean_squared_error(y_val, y_predict2, squared=False)"
   ]
  },
  {
   "cell_type": "markdown",
   "metadata": {},
   "source": [
    "#Once you think you have good enough result do a prediction on the X_test set just to confirm that the model is not getting overfitted"
   ]
  },
  {
   "cell_type": "code",
   "execution_count": 68,
   "metadata": {},
   "outputs": [
    {
     "data": {
      "text/plain": [
       "3119.3308453049367"
      ]
     },
     "execution_count": 68,
     "metadata": {},
     "output_type": "execute_result"
    }
   ],
   "source": [
    "y_predict_test = regressor.predict(X_test)\n",
    "mean_squared_error(y_test, y_predict_test, squared=False)"
   ]
  },
  {
   "cell_type": "markdown",
   "metadata": {},
   "source": [
    "# The lost data "
   ]
  },
  {
   "cell_type": "markdown",
   "metadata": {},
   "source": [
    "so in this point we have :\n",
    " 1. A model i.e regressor\n",
    " 2. main_test\n",
    " 3. some encoders to map i.e airline_enc etc\n",
    "\n",
    "we have to predict the price using the model and fill it up in the price column\n",
    " \n"
   ]
  },
  {
   "cell_type": "code",
   "execution_count": 69,
   "metadata": {},
   "outputs": [
    {
     "data": {
      "text/html": [
       "<div>\n",
       "<style scoped>\n",
       "    .dataframe tbody tr th:only-of-type {\n",
       "        vertical-align: middle;\n",
       "    }\n",
       "\n",
       "    .dataframe tbody tr th {\n",
       "        vertical-align: top;\n",
       "    }\n",
       "\n",
       "    .dataframe thead th {\n",
       "        text-align: right;\n",
       "    }\n",
       "</style>\n",
       "<table border=\"1\" class=\"dataframe\">\n",
       "  <thead>\n",
       "    <tr style=\"text-align: right;\">\n",
       "      <th></th>\n",
       "      <th>Airline</th>\n",
       "      <th>Date_of_Journey</th>\n",
       "      <th>Source</th>\n",
       "      <th>Destination</th>\n",
       "      <th>Route</th>\n",
       "      <th>Dep_Time</th>\n",
       "      <th>Total_Stops</th>\n",
       "      <th>total_duration_min</th>\n",
       "      <th>Price</th>\n",
       "    </tr>\n",
       "  </thead>\n",
       "  <tbody>\n",
       "    <tr>\n",
       "      <th>10682</th>\n",
       "      <td>Jet Airways</td>\n",
       "      <td>06-06-2019</td>\n",
       "      <td>Delhi</td>\n",
       "      <td>Cochin</td>\n",
       "      <td>DEL → BOM → COK</td>\n",
       "      <td>17:30</td>\n",
       "      <td>1 stop</td>\n",
       "      <td>655</td>\n",
       "      <td>NaN</td>\n",
       "    </tr>\n",
       "    <tr>\n",
       "      <th>10683</th>\n",
       "      <td>IndiGo</td>\n",
       "      <td>12-05-2019</td>\n",
       "      <td>Kolkata</td>\n",
       "      <td>Banglore</td>\n",
       "      <td>CCU → MAA → BLR</td>\n",
       "      <td>06:20</td>\n",
       "      <td>1 stop</td>\n",
       "      <td>240</td>\n",
       "      <td>NaN</td>\n",
       "    </tr>\n",
       "    <tr>\n",
       "      <th>10684</th>\n",
       "      <td>Jet Airways</td>\n",
       "      <td>21-05-2019</td>\n",
       "      <td>Delhi</td>\n",
       "      <td>Cochin</td>\n",
       "      <td>DEL → BOM → COK</td>\n",
       "      <td>19:15</td>\n",
       "      <td>1 stop</td>\n",
       "      <td>1425</td>\n",
       "      <td>NaN</td>\n",
       "    </tr>\n",
       "    <tr>\n",
       "      <th>10685</th>\n",
       "      <td>Multiple carriers</td>\n",
       "      <td>21-05-2019</td>\n",
       "      <td>Delhi</td>\n",
       "      <td>Cochin</td>\n",
       "      <td>DEL → BOM → COK</td>\n",
       "      <td>08:00</td>\n",
       "      <td>1 stop</td>\n",
       "      <td>780</td>\n",
       "      <td>NaN</td>\n",
       "    </tr>\n",
       "    <tr>\n",
       "      <th>10686</th>\n",
       "      <td>Air Asia</td>\n",
       "      <td>24-06-2019</td>\n",
       "      <td>Banglore</td>\n",
       "      <td>Delhi</td>\n",
       "      <td>BLR → DEL</td>\n",
       "      <td>23:55</td>\n",
       "      <td>non-stop</td>\n",
       "      <td>170</td>\n",
       "      <td>NaN</td>\n",
       "    </tr>\n",
       "    <tr>\n",
       "      <th>...</th>\n",
       "      <td>...</td>\n",
       "      <td>...</td>\n",
       "      <td>...</td>\n",
       "      <td>...</td>\n",
       "      <td>...</td>\n",
       "      <td>...</td>\n",
       "      <td>...</td>\n",
       "      <td>...</td>\n",
       "      <td>...</td>\n",
       "    </tr>\n",
       "    <tr>\n",
       "      <th>13347</th>\n",
       "      <td>Air India</td>\n",
       "      <td>06-06-2019</td>\n",
       "      <td>Kolkata</td>\n",
       "      <td>Banglore</td>\n",
       "      <td>CCU → DEL → BLR</td>\n",
       "      <td>20:30</td>\n",
       "      <td>1 stop</td>\n",
       "      <td>1435</td>\n",
       "      <td>NaN</td>\n",
       "    </tr>\n",
       "    <tr>\n",
       "      <th>13348</th>\n",
       "      <td>IndiGo</td>\n",
       "      <td>27-03-2019</td>\n",
       "      <td>Kolkata</td>\n",
       "      <td>Banglore</td>\n",
       "      <td>CCU → BLR</td>\n",
       "      <td>14:20</td>\n",
       "      <td>non-stop</td>\n",
       "      <td>155</td>\n",
       "      <td>NaN</td>\n",
       "    </tr>\n",
       "    <tr>\n",
       "      <th>13349</th>\n",
       "      <td>Jet Airways</td>\n",
       "      <td>06-03-2019</td>\n",
       "      <td>Delhi</td>\n",
       "      <td>Cochin</td>\n",
       "      <td>DEL → BOM → COK</td>\n",
       "      <td>21:50</td>\n",
       "      <td>1 stop</td>\n",
       "      <td>395</td>\n",
       "      <td>NaN</td>\n",
       "    </tr>\n",
       "    <tr>\n",
       "      <th>13350</th>\n",
       "      <td>Air India</td>\n",
       "      <td>06-03-2019</td>\n",
       "      <td>Delhi</td>\n",
       "      <td>Cochin</td>\n",
       "      <td>DEL → BOM → COK</td>\n",
       "      <td>04:00</td>\n",
       "      <td>1 stop</td>\n",
       "      <td>915</td>\n",
       "      <td>NaN</td>\n",
       "    </tr>\n",
       "    <tr>\n",
       "      <th>13351</th>\n",
       "      <td>Multiple carriers</td>\n",
       "      <td>15-06-2019</td>\n",
       "      <td>Delhi</td>\n",
       "      <td>Cochin</td>\n",
       "      <td>DEL → BOM → COK</td>\n",
       "      <td>04:55</td>\n",
       "      <td>1 stop</td>\n",
       "      <td>860</td>\n",
       "      <td>NaN</td>\n",
       "    </tr>\n",
       "  </tbody>\n",
       "</table>\n",
       "<p>2670 rows × 9 columns</p>\n",
       "</div>"
      ],
      "text/plain": [
       "                 Airline Date_of_Journey    Source Destination  \\\n",
       "10682        Jet Airways      06-06-2019     Delhi      Cochin   \n",
       "10683             IndiGo      12-05-2019   Kolkata    Banglore   \n",
       "10684        Jet Airways      21-05-2019     Delhi      Cochin   \n",
       "10685  Multiple carriers      21-05-2019     Delhi      Cochin   \n",
       "10686           Air Asia      24-06-2019  Banglore       Delhi   \n",
       "...                  ...             ...       ...         ...   \n",
       "13347          Air India      06-06-2019   Kolkata    Banglore   \n",
       "13348             IndiGo      27-03-2019   Kolkata    Banglore   \n",
       "13349        Jet Airways      06-03-2019     Delhi      Cochin   \n",
       "13350          Air India      06-03-2019     Delhi      Cochin   \n",
       "13351  Multiple carriers      15-06-2019     Delhi      Cochin   \n",
       "\n",
       "                 Route Dep_Time Total_Stops  total_duration_min  Price  \n",
       "10682  DEL → BOM → COK    17:30      1 stop                 655    NaN  \n",
       "10683  CCU → MAA → BLR    06:20      1 stop                 240    NaN  \n",
       "10684  DEL → BOM → COK    19:15      1 stop                1425    NaN  \n",
       "10685  DEL → BOM → COK    08:00      1 stop                 780    NaN  \n",
       "10686        BLR → DEL    23:55    non-stop                 170    NaN  \n",
       "...                ...      ...         ...                 ...    ...  \n",
       "13347  CCU → DEL → BLR    20:30      1 stop                1435    NaN  \n",
       "13348        CCU → BLR    14:20    non-stop                 155    NaN  \n",
       "13349  DEL → BOM → COK    21:50      1 stop                 395    NaN  \n",
       "13350  DEL → BOM → COK    04:00      1 stop                 915    NaN  \n",
       "13351  DEL → BOM → COK    04:55      1 stop                 860    NaN  \n",
       "\n",
       "[2670 rows x 9 columns]"
      ]
     },
     "execution_count": 69,
     "metadata": {},
     "output_type": "execute_result"
    }
   ],
   "source": [
    "# see again price is all nan\n",
    "main_test\n"
   ]
  },
  {
   "cell_type": "markdown",
   "metadata": {},
   "source": [
    "we have to bring the main_test in same format as that of the X_train\n",
    " 1. Do same preprocessing steps\n",
    " 2. Do same feature engg\n",
    " 3. Do same feature selection\n",
    " 4. fed to model and predict\n",
    "\n",
    "why no EDA ? -- Becz EDA is done only on the train set\n",
    " "
   ]
  },
  {
   "cell_type": "code",
   "execution_count": 70,
   "metadata": {},
   "outputs": [],
   "source": [
    "# Preprocessing "
   ]
  },
  {
   "cell_type": "markdown",
   "metadata": {},
   "source": [
    "#### Null / constant / duplicate drop same steps"
   ]
  },
  {
   "cell_type": "code",
   "execution_count": 71,
   "metadata": {},
   "outputs": [
    {
     "data": {
      "text/plain": [
       "Airline                  0\n",
       "Date_of_Journey          0\n",
       "Source                   0\n",
       "Destination              0\n",
       "Route                    0\n",
       "Dep_Time                 0\n",
       "Total_Stops              0\n",
       "total_duration_min       0\n",
       "Price                 2670\n",
       "dtype: int64"
      ]
     },
     "execution_count": 71,
     "metadata": {},
     "output_type": "execute_result"
    }
   ],
   "source": [
    "main_test.isna().sum()"
   ]
  },
  {
   "cell_type": "markdown",
   "metadata": {},
   "source": [
    "#### drop price column as we are going to predict that + its null"
   ]
  },
  {
   "cell_type": "code",
   "execution_count": 72,
   "metadata": {},
   "outputs": [],
   "source": [
    "X_main_test = main_test.drop(['Price'],axis=1)\n",
    "X_main_test\n",
    "\n",
    "# ALSO LETS DROP PRICE FROM MAIN TEST ITSELF\n",
    "main_test.drop(['Price'], inplace =True,axis=1)"
   ]
  },
  {
   "cell_type": "code",
   "execution_count": 73,
   "metadata": {},
   "outputs": [],
   "source": [
    "X_main_test['Date_of_Journey'] = pd.to_datetime(X_main_test['Date_of_Journey'])"
   ]
  },
  {
   "cell_type": "code",
   "execution_count": 74,
   "metadata": {},
   "outputs": [],
   "source": [
    "#Feature Engg\n",
    "\n",
    "##To Remember exactly same set of feature even the column name should be same "
   ]
  },
  {
   "cell_type": "code",
   "execution_count": 75,
   "metadata": {},
   "outputs": [],
   "source": [
    "# Again new classed are there in the main_test set\n",
    "temp = set(X_main_test['Airline'])-set(Airline_encoder.classes_)\n",
    "for items in temp:\n",
    "    Airline_encoder.classes_= np.append(Airline_encoder.classes_,items)\n",
    "\n",
    "X_main_test['Airline_enc'] = Airline_encoder.transform(X_main_test['Airline'])"
   ]
  },
  {
   "cell_type": "code",
   "execution_count": 76,
   "metadata": {},
   "outputs": [],
   "source": [
    "X_main_test['day_of_week'] = X_main_test['Date_of_Journey'].dt.weekday \n",
    "X_main_test['day_of_Journey'] = X_main_test['Date_of_Journey'].dt.day\n",
    "X_main_test['month_of_Journey'] = X_main_test['Date_of_Journey'].dt.month\n",
    "X_main_test['year_of_Journey'] = X_main_test['Date_of_Journey'].dt.year"
   ]
  },
  {
   "cell_type": "code",
   "execution_count": 77,
   "metadata": {},
   "outputs": [],
   "source": [
    "X_main_test['Source_enc'] = source_encoder.transform(X_main_test['Source'])\n",
    "X_main_test['Destination_enc'] = destination_encoder.transform(X_main_test['Destination'])\n"
   ]
  },
  {
   "cell_type": "code",
   "execution_count": 78,
   "metadata": {},
   "outputs": [],
   "source": [
    "temp2 = set(X_main_test['Route'])-set(route_encoder.classes_)\n",
    "for items in temp2:\n",
    "    route_encoder.classes_= np.append(route_encoder.classes_,items)\n",
    "    \n",
    "X_main_test['Route_enc'] = route_encoder.transform(X_main_test['Route'])"
   ]
  },
  {
   "cell_type": "code",
   "execution_count": 79,
   "metadata": {},
   "outputs": [],
   "source": [
    "X_main_test['Dep_Time'] = X_main_test['Dep_Time'].str.replace(':',\"\").astype(int)"
   ]
  },
  {
   "cell_type": "code",
   "execution_count": 80,
   "metadata": {},
   "outputs": [],
   "source": [
    "X_main_test[\"Total_Stops\"] = X_main_test[\"Total_Stops\"].str.replace(\"non-\",\"0 \").str.split(\" \").str[0].astype(int)"
   ]
  },
  {
   "cell_type": "code",
   "execution_count": 81,
   "metadata": {},
   "outputs": [
    {
     "name": "stdout",
     "output_type": "stream",
     "text": [
      "<class 'pandas.core.frame.DataFrame'>\n",
      "Int64Index: 2670 entries, 10682 to 13351\n",
      "Data columns (total 16 columns):\n",
      " #   Column              Non-Null Count  Dtype         \n",
      "---  ------              --------------  -----         \n",
      " 0   Airline             2670 non-null   object        \n",
      " 1   Date_of_Journey     2670 non-null   datetime64[ns]\n",
      " 2   Source              2670 non-null   object        \n",
      " 3   Destination         2670 non-null   object        \n",
      " 4   Route               2670 non-null   object        \n",
      " 5   Dep_Time            2670 non-null   int32         \n",
      " 6   Total_Stops         2670 non-null   int32         \n",
      " 7   total_duration_min  2670 non-null   int64         \n",
      " 8   Airline_enc         2670 non-null   int32         \n",
      " 9   day_of_week         2670 non-null   int64         \n",
      " 10  day_of_Journey      2670 non-null   int64         \n",
      " 11  month_of_Journey    2670 non-null   int64         \n",
      " 12  year_of_Journey     2670 non-null   int64         \n",
      " 13  Source_enc          2670 non-null   int32         \n",
      " 14  Destination_enc     2670 non-null   int32         \n",
      " 15  Route_enc           2670 non-null   int32         \n",
      "dtypes: datetime64[ns](1), int32(6), int64(5), object(4)\n",
      "memory usage: 292.0+ KB\n"
     ]
    }
   ],
   "source": [
    "X_main_test.info()"
   ]
  },
  {
   "cell_type": "code",
   "execution_count": 82,
   "metadata": {},
   "outputs": [],
   "source": [
    "# Deleteing the object/datetime counter parts\n",
    "\n",
    "X_main_test.drop(['Airline','Date_of_Journey','Source','Destination','Route'],inplace =True ,axis=1)"
   ]
  },
  {
   "cell_type": "code",
   "execution_count": 83,
   "metadata": {},
   "outputs": [
    {
     "data": {
      "text/plain": [
       "Index(['Dep_Time', 'Total_Stops', 'total_duration_min', 'Airline_enc',\n",
       "       'day_of_week', 'day_of_Journey', 'month_of_Journey', 'year_of_Journey',\n",
       "       'Source_enc', 'Destination_enc', 'Route_enc'],\n",
       "      dtype='object')"
      ]
     },
     "execution_count": 83,
     "metadata": {},
     "output_type": "execute_result"
    }
   ],
   "source": [
    "X_main_test.columns"
   ]
  },
  {
   "cell_type": "code",
   "execution_count": 84,
   "metadata": {},
   "outputs": [
    {
     "data": {
      "text/plain": [
       "Index(['Dep_Time', 'Total_Stops', 'total_duration_min', 'Airline_enc',\n",
       "       'day_of_week', 'day_of_Journey', 'month_of_Journey', 'Source_enc',\n",
       "       'Destination_enc', 'Route_enc'],\n",
       "      dtype='object')"
      ]
     },
     "execution_count": 84,
     "metadata": {},
     "output_type": "execute_result"
    }
   ],
   "source": [
    "X_train.columns"
   ]
  },
  {
   "cell_type": "code",
   "execution_count": 85,
   "metadata": {},
   "outputs": [],
   "source": [
    "# remove year_of_journey \n",
    "\n",
    "X_main_test.drop(['year_of_Journey'],inplace =True ,axis=1)"
   ]
  },
  {
   "cell_type": "markdown",
   "metadata": {},
   "source": [
    "# END GAME"
   ]
  },
  {
   "cell_type": "code",
   "execution_count": 86,
   "metadata": {},
   "outputs": [],
   "source": [
    "# PREDICT IT \n",
    "\n",
    "final_result = regressor.predict(X_main_test)"
   ]
  },
  {
   "cell_type": "code",
   "execution_count": 87,
   "metadata": {},
   "outputs": [],
   "source": [
    "final_result = pd.Series(final_result,name='Price')"
   ]
  },
  {
   "cell_type": "code",
   "execution_count": 88,
   "metadata": {},
   "outputs": [],
   "source": [
    "# resetting the index of main test so that we can merge price series with it\n",
    "main_test.reset_index(drop=True,inplace=True)"
   ]
  },
  {
   "cell_type": "code",
   "execution_count": 89,
   "metadata": {},
   "outputs": [
    {
     "data": {
      "text/html": [
       "<div>\n",
       "<style scoped>\n",
       "    .dataframe tbody tr th:only-of-type {\n",
       "        vertical-align: middle;\n",
       "    }\n",
       "\n",
       "    .dataframe tbody tr th {\n",
       "        vertical-align: top;\n",
       "    }\n",
       "\n",
       "    .dataframe thead th {\n",
       "        text-align: right;\n",
       "    }\n",
       "</style>\n",
       "<table border=\"1\" class=\"dataframe\">\n",
       "  <thead>\n",
       "    <tr style=\"text-align: right;\">\n",
       "      <th></th>\n",
       "      <th>key_0</th>\n",
       "      <th>Airline</th>\n",
       "      <th>Date_of_Journey</th>\n",
       "      <th>Source</th>\n",
       "      <th>Destination</th>\n",
       "      <th>Route</th>\n",
       "      <th>Dep_Time</th>\n",
       "      <th>Total_Stops</th>\n",
       "      <th>total_duration_min</th>\n",
       "      <th>Price</th>\n",
       "    </tr>\n",
       "  </thead>\n",
       "  <tbody>\n",
       "    <tr>\n",
       "      <th>0</th>\n",
       "      <td>10682</td>\n",
       "      <td>Jet Airways</td>\n",
       "      <td>06-06-2019</td>\n",
       "      <td>Delhi</td>\n",
       "      <td>Cochin</td>\n",
       "      <td>DEL → BOM → COK</td>\n",
       "      <td>17:30</td>\n",
       "      <td>1 stop</td>\n",
       "      <td>655</td>\n",
       "      <td>12463.063173</td>\n",
       "    </tr>\n",
       "    <tr>\n",
       "      <th>1</th>\n",
       "      <td>10683</td>\n",
       "      <td>IndiGo</td>\n",
       "      <td>12-05-2019</td>\n",
       "      <td>Kolkata</td>\n",
       "      <td>Banglore</td>\n",
       "      <td>CCU → MAA → BLR</td>\n",
       "      <td>06:20</td>\n",
       "      <td>1 stop</td>\n",
       "      <td>240</td>\n",
       "      <td>5913.272512</td>\n",
       "    </tr>\n",
       "    <tr>\n",
       "      <th>2</th>\n",
       "      <td>10684</td>\n",
       "      <td>Jet Airways</td>\n",
       "      <td>21-05-2019</td>\n",
       "      <td>Delhi</td>\n",
       "      <td>Cochin</td>\n",
       "      <td>DEL → BOM → COK</td>\n",
       "      <td>19:15</td>\n",
       "      <td>1 stop</td>\n",
       "      <td>1425</td>\n",
       "      <td>12463.063173</td>\n",
       "    </tr>\n",
       "    <tr>\n",
       "      <th>3</th>\n",
       "      <td>10685</td>\n",
       "      <td>Multiple carriers</td>\n",
       "      <td>21-05-2019</td>\n",
       "      <td>Delhi</td>\n",
       "      <td>Cochin</td>\n",
       "      <td>DEL → BOM → COK</td>\n",
       "      <td>08:00</td>\n",
       "      <td>1 stop</td>\n",
       "      <td>780</td>\n",
       "      <td>9851.501722</td>\n",
       "    </tr>\n",
       "    <tr>\n",
       "      <th>4</th>\n",
       "      <td>10686</td>\n",
       "      <td>Air Asia</td>\n",
       "      <td>24-06-2019</td>\n",
       "      <td>Banglore</td>\n",
       "      <td>Delhi</td>\n",
       "      <td>BLR → DEL</td>\n",
       "      <td>23:55</td>\n",
       "      <td>non-stop</td>\n",
       "      <td>170</td>\n",
       "      <td>4681.839544</td>\n",
       "    </tr>\n",
       "    <tr>\n",
       "      <th>...</th>\n",
       "      <td>...</td>\n",
       "      <td>...</td>\n",
       "      <td>...</td>\n",
       "      <td>...</td>\n",
       "      <td>...</td>\n",
       "      <td>...</td>\n",
       "      <td>...</td>\n",
       "      <td>...</td>\n",
       "      <td>...</td>\n",
       "      <td>...</td>\n",
       "    </tr>\n",
       "    <tr>\n",
       "      <th>2665</th>\n",
       "      <td>13347</td>\n",
       "      <td>Air India</td>\n",
       "      <td>06-06-2019</td>\n",
       "      <td>Kolkata</td>\n",
       "      <td>Banglore</td>\n",
       "      <td>CCU → DEL → BLR</td>\n",
       "      <td>20:30</td>\n",
       "      <td>1 stop</td>\n",
       "      <td>1435</td>\n",
       "      <td>7867.000000</td>\n",
       "    </tr>\n",
       "    <tr>\n",
       "      <th>2666</th>\n",
       "      <td>13348</td>\n",
       "      <td>IndiGo</td>\n",
       "      <td>27-03-2019</td>\n",
       "      <td>Kolkata</td>\n",
       "      <td>Banglore</td>\n",
       "      <td>CCU → BLR</td>\n",
       "      <td>14:20</td>\n",
       "      <td>non-stop</td>\n",
       "      <td>155</td>\n",
       "      <td>4681.839544</td>\n",
       "    </tr>\n",
       "    <tr>\n",
       "      <th>2667</th>\n",
       "      <td>13349</td>\n",
       "      <td>Jet Airways</td>\n",
       "      <td>06-03-2019</td>\n",
       "      <td>Delhi</td>\n",
       "      <td>Cochin</td>\n",
       "      <td>DEL → BOM → COK</td>\n",
       "      <td>21:50</td>\n",
       "      <td>1 stop</td>\n",
       "      <td>395</td>\n",
       "      <td>15876.991968</td>\n",
       "    </tr>\n",
       "    <tr>\n",
       "      <th>2668</th>\n",
       "      <td>13350</td>\n",
       "      <td>Air India</td>\n",
       "      <td>06-03-2019</td>\n",
       "      <td>Delhi</td>\n",
       "      <td>Cochin</td>\n",
       "      <td>DEL → BOM → COK</td>\n",
       "      <td>04:00</td>\n",
       "      <td>1 stop</td>\n",
       "      <td>915</td>\n",
       "      <td>12843.463687</td>\n",
       "    </tr>\n",
       "    <tr>\n",
       "      <th>2669</th>\n",
       "      <td>13351</td>\n",
       "      <td>Multiple carriers</td>\n",
       "      <td>15-06-2019</td>\n",
       "      <td>Delhi</td>\n",
       "      <td>Cochin</td>\n",
       "      <td>DEL → BOM → COK</td>\n",
       "      <td>04:55</td>\n",
       "      <td>1 stop</td>\n",
       "      <td>860</td>\n",
       "      <td>9851.501722</td>\n",
       "    </tr>\n",
       "  </tbody>\n",
       "</table>\n",
       "<p>2670 rows × 10 columns</p>\n",
       "</div>"
      ],
      "text/plain": [
       "      key_0            Airline Date_of_Journey    Source Destination  \\\n",
       "0     10682        Jet Airways      06-06-2019     Delhi      Cochin   \n",
       "1     10683             IndiGo      12-05-2019   Kolkata    Banglore   \n",
       "2     10684        Jet Airways      21-05-2019     Delhi      Cochin   \n",
       "3     10685  Multiple carriers      21-05-2019     Delhi      Cochin   \n",
       "4     10686           Air Asia      24-06-2019  Banglore       Delhi   \n",
       "...     ...                ...             ...       ...         ...   \n",
       "2665  13347          Air India      06-06-2019   Kolkata    Banglore   \n",
       "2666  13348             IndiGo      27-03-2019   Kolkata    Banglore   \n",
       "2667  13349        Jet Airways      06-03-2019     Delhi      Cochin   \n",
       "2668  13350          Air India      06-03-2019     Delhi      Cochin   \n",
       "2669  13351  Multiple carriers      15-06-2019     Delhi      Cochin   \n",
       "\n",
       "                Route Dep_Time Total_Stops  total_duration_min         Price  \n",
       "0     DEL → BOM → COK    17:30      1 stop                 655  12463.063173  \n",
       "1     CCU → MAA → BLR    06:20      1 stop                 240   5913.272512  \n",
       "2     DEL → BOM → COK    19:15      1 stop                1425  12463.063173  \n",
       "3     DEL → BOM → COK    08:00      1 stop                 780   9851.501722  \n",
       "4           BLR → DEL    23:55    non-stop                 170   4681.839544  \n",
       "...               ...      ...         ...                 ...           ...  \n",
       "2665  CCU → DEL → BLR    20:30      1 stop                1435   7867.000000  \n",
       "2666        CCU → BLR    14:20    non-stop                 155   4681.839544  \n",
       "2667  DEL → BOM → COK    21:50      1 stop                 395  15876.991968  \n",
       "2668  DEL → BOM → COK    04:00      1 stop                 915  12843.463687  \n",
       "2669  DEL → BOM → COK    04:55      1 stop                 860   9851.501722  \n",
       "\n",
       "[2670 rows x 10 columns]"
      ]
     },
     "execution_count": 89,
     "metadata": {},
     "output_type": "execute_result"
    }
   ],
   "source": [
    "Final = main_test.merge(final_result , on = X_main_test.index )\n",
    "Final "
   ]
  },
  {
   "cell_type": "markdown",
   "metadata": {},
   "source": [
    "# Congratulations on predicting the price !!!!!!!!!!!!!"
   ]
  },
  {
   "cell_type": "markdown",
   "metadata": {},
   "source": [
    "The END"
   ]
  }
 ],
 "metadata": {
  "kernelspec": {
   "display_name": "Python 3",
   "language": "python",
   "name": "python3"
  },
  "language_info": {
   "codemirror_mode": {
    "name": "ipython",
    "version": 3
   },
   "file_extension": ".py",
   "mimetype": "text/x-python",
   "name": "python",
   "nbconvert_exporter": "python",
   "pygments_lexer": "ipython3",
   "version": "3.8.8"
  }
 },
 "nbformat": 4,
 "nbformat_minor": 4
}
